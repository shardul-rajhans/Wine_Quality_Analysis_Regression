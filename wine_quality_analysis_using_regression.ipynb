{
 "cells": [
  {
   "cell_type": "markdown",
   "metadata": {},
   "source": [
    "# Red Wine Quality Analysis Using Machine Learning\n",
    "\n",
    "- This is a machine learning assignment for practice from the open source data: https://archive.ics.uci.edu/ml/machine-learning-databases/wine-quality/.\n",
    "- This is also uploaded on kaggle as open source data for practice: https://www.kaggle.com/uciml/red-wine-quality-cortez-et-al-2009\n",
    "- The discription of the data is available at https://archive.ics.uci.edu/ml/datasets/wine+quality\n",
    "- Two datasets are included, related to red and white vinho verde wine samples, from the north of Portugal. `The goal is to model wine quality based on physicochemical tests`."
   ]
  },
  {
   "cell_type": "markdown",
   "metadata": {},
   "source": [
    "# Attribute Information\n",
    "Input variables (based on physicochemical tests):\n",
    "1.  fixed acidity\n",
    "2.  volatile acidity\n",
    "3.  citric acid\n",
    "4.  residual sugar\n",
    "5.  chlorides\n",
    "6.  free sulfur dioxide\n",
    "7.  total sulfur dioxide\n",
    "8.  density\n",
    "9.  pH\n",
    "10. sulphates\n",
    "11. alcohol\n",
    "`Output variable (based on sensory data)`:\n",
    "12. quality (score between 0 and 10)"
   ]
  },
  {
   "cell_type": "markdown",
   "metadata": {},
   "source": [
    "# Reading and Understanding Datasets"
   ]
  },
  {
   "cell_type": "code",
   "execution_count": 1,
   "metadata": {},
   "outputs": [],
   "source": [
    "# Import the required libraries for the analysis\n",
    "import warnings\n",
    "warnings.filterwarnings('ignore')\n",
    "import numpy as np\n",
    "import pandas as pd\n",
    "import matplotlib.pyplot as plt\n",
    "%matplotlib inline\n",
    "import seaborn as sns\n",
    "import statsmodels.api as sm\n",
    "from sklearn.preprocessing import StandardScaler\n",
    "from sklearn.model_selection import train_test_split\n",
    "from sklearn.linear_model import LinearRegression\n",
    "from sklearn.linear_model import LogisticRegression\n",
    "from sklearn.metrics import mean_squared_error, r2_score\n",
    "from sklearn.feature_selection import RFE\n",
    "from statsmodels.stats.outliers_influence import variance_inflation_factor\n",
    "from sklearn.metrics import confusion_matrix\n",
    "from sklearn.metrics import accuracy_score\n",
    "from sklearn.metrics import roc_curve\n",
    "from sklearn.metrics import roc_auc_score"
   ]
  },
  {
   "cell_type": "code",
   "execution_count": 2,
   "metadata": {},
   "outputs": [
    {
     "data": {
      "text/html": [
       "<div>\n",
       "<style scoped>\n",
       "    .dataframe tbody tr th:only-of-type {\n",
       "        vertical-align: middle;\n",
       "    }\n",
       "\n",
       "    .dataframe tbody tr th {\n",
       "        vertical-align: top;\n",
       "    }\n",
       "\n",
       "    .dataframe thead th {\n",
       "        text-align: right;\n",
       "    }\n",
       "</style>\n",
       "<table border=\"1\" class=\"dataframe\">\n",
       "  <thead>\n",
       "    <tr style=\"text-align: right;\">\n",
       "      <th></th>\n",
       "      <th>fixed acidity</th>\n",
       "      <th>volatile acidity</th>\n",
       "      <th>citric acid</th>\n",
       "      <th>residual sugar</th>\n",
       "      <th>chlorides</th>\n",
       "      <th>free sulfur dioxide</th>\n",
       "      <th>total sulfur dioxide</th>\n",
       "      <th>density</th>\n",
       "      <th>pH</th>\n",
       "      <th>sulphates</th>\n",
       "      <th>alcohol</th>\n",
       "      <th>quality</th>\n",
       "    </tr>\n",
       "  </thead>\n",
       "  <tbody>\n",
       "    <tr>\n",
       "      <th>0</th>\n",
       "      <td>7.4</td>\n",
       "      <td>0.70</td>\n",
       "      <td>0.00</td>\n",
       "      <td>1.9</td>\n",
       "      <td>0.076</td>\n",
       "      <td>11.0</td>\n",
       "      <td>34.0</td>\n",
       "      <td>0.9978</td>\n",
       "      <td>3.51</td>\n",
       "      <td>0.56</td>\n",
       "      <td>9.4</td>\n",
       "      <td>5</td>\n",
       "    </tr>\n",
       "    <tr>\n",
       "      <th>1</th>\n",
       "      <td>7.8</td>\n",
       "      <td>0.88</td>\n",
       "      <td>0.00</td>\n",
       "      <td>2.6</td>\n",
       "      <td>0.098</td>\n",
       "      <td>25.0</td>\n",
       "      <td>67.0</td>\n",
       "      <td>0.9968</td>\n",
       "      <td>3.20</td>\n",
       "      <td>0.68</td>\n",
       "      <td>9.8</td>\n",
       "      <td>5</td>\n",
       "    </tr>\n",
       "    <tr>\n",
       "      <th>2</th>\n",
       "      <td>7.8</td>\n",
       "      <td>0.76</td>\n",
       "      <td>0.04</td>\n",
       "      <td>2.3</td>\n",
       "      <td>0.092</td>\n",
       "      <td>15.0</td>\n",
       "      <td>54.0</td>\n",
       "      <td>0.9970</td>\n",
       "      <td>3.26</td>\n",
       "      <td>0.65</td>\n",
       "      <td>9.8</td>\n",
       "      <td>5</td>\n",
       "    </tr>\n",
       "    <tr>\n",
       "      <th>3</th>\n",
       "      <td>11.2</td>\n",
       "      <td>0.28</td>\n",
       "      <td>0.56</td>\n",
       "      <td>1.9</td>\n",
       "      <td>0.075</td>\n",
       "      <td>17.0</td>\n",
       "      <td>60.0</td>\n",
       "      <td>0.9980</td>\n",
       "      <td>3.16</td>\n",
       "      <td>0.58</td>\n",
       "      <td>9.8</td>\n",
       "      <td>6</td>\n",
       "    </tr>\n",
       "    <tr>\n",
       "      <th>4</th>\n",
       "      <td>7.4</td>\n",
       "      <td>0.70</td>\n",
       "      <td>0.00</td>\n",
       "      <td>1.9</td>\n",
       "      <td>0.076</td>\n",
       "      <td>11.0</td>\n",
       "      <td>34.0</td>\n",
       "      <td>0.9978</td>\n",
       "      <td>3.51</td>\n",
       "      <td>0.56</td>\n",
       "      <td>9.4</td>\n",
       "      <td>5</td>\n",
       "    </tr>\n",
       "  </tbody>\n",
       "</table>\n",
       "</div>"
      ],
      "text/plain": [
       "   fixed acidity  volatile acidity  citric acid  residual sugar  chlorides  \\\n",
       "0            7.4              0.70         0.00             1.9      0.076   \n",
       "1            7.8              0.88         0.00             2.6      0.098   \n",
       "2            7.8              0.76         0.04             2.3      0.092   \n",
       "3           11.2              0.28         0.56             1.9      0.075   \n",
       "4            7.4              0.70         0.00             1.9      0.076   \n",
       "\n",
       "   free sulfur dioxide  total sulfur dioxide  density    pH  sulphates  \\\n",
       "0                 11.0                  34.0   0.9978  3.51       0.56   \n",
       "1                 25.0                  67.0   0.9968  3.20       0.68   \n",
       "2                 15.0                  54.0   0.9970  3.26       0.65   \n",
       "3                 17.0                  60.0   0.9980  3.16       0.58   \n",
       "4                 11.0                  34.0   0.9978  3.51       0.56   \n",
       "\n",
       "   alcohol  quality  \n",
       "0      9.4        5  \n",
       "1      9.8        5  \n",
       "2      9.8        5  \n",
       "3      9.8        6  \n",
       "4      9.4        5  "
      ]
     },
     "execution_count": 2,
     "metadata": {},
     "output_type": "execute_result"
    }
   ],
   "source": [
    "# Importing the dataset for red wine from the open source UCI machine learning repositories\n",
    "\n",
    "red_wine_data = pd.read_csv('https://archive.ics.uci.edu/ml/machine-learning-databases/wine-quality/winequality-red.csv',delimiter=';')\n",
    "red_wine_data.head()"
   ]
  },
  {
   "cell_type": "code",
   "execution_count": 3,
   "metadata": {},
   "outputs": [
    {
     "data": {
      "text/html": [
       "<div>\n",
       "<style scoped>\n",
       "    .dataframe tbody tr th:only-of-type {\n",
       "        vertical-align: middle;\n",
       "    }\n",
       "\n",
       "    .dataframe tbody tr th {\n",
       "        vertical-align: top;\n",
       "    }\n",
       "\n",
       "    .dataframe thead th {\n",
       "        text-align: right;\n",
       "    }\n",
       "</style>\n",
       "<table border=\"1\" class=\"dataframe\">\n",
       "  <thead>\n",
       "    <tr style=\"text-align: right;\">\n",
       "      <th></th>\n",
       "      <th>fixed acidity</th>\n",
       "      <th>volatile acidity</th>\n",
       "      <th>citric acid</th>\n",
       "      <th>residual sugar</th>\n",
       "      <th>chlorides</th>\n",
       "      <th>free sulfur dioxide</th>\n",
       "      <th>total sulfur dioxide</th>\n",
       "      <th>density</th>\n",
       "      <th>pH</th>\n",
       "      <th>sulphates</th>\n",
       "      <th>alcohol</th>\n",
       "      <th>quality</th>\n",
       "    </tr>\n",
       "  </thead>\n",
       "  <tbody>\n",
       "    <tr>\n",
       "      <th>0</th>\n",
       "      <td>7.0</td>\n",
       "      <td>0.27</td>\n",
       "      <td>0.36</td>\n",
       "      <td>20.7</td>\n",
       "      <td>0.045</td>\n",
       "      <td>45.0</td>\n",
       "      <td>170.0</td>\n",
       "      <td>1.0010</td>\n",
       "      <td>3.00</td>\n",
       "      <td>0.45</td>\n",
       "      <td>8.8</td>\n",
       "      <td>6</td>\n",
       "    </tr>\n",
       "    <tr>\n",
       "      <th>1</th>\n",
       "      <td>6.3</td>\n",
       "      <td>0.30</td>\n",
       "      <td>0.34</td>\n",
       "      <td>1.6</td>\n",
       "      <td>0.049</td>\n",
       "      <td>14.0</td>\n",
       "      <td>132.0</td>\n",
       "      <td>0.9940</td>\n",
       "      <td>3.30</td>\n",
       "      <td>0.49</td>\n",
       "      <td>9.5</td>\n",
       "      <td>6</td>\n",
       "    </tr>\n",
       "    <tr>\n",
       "      <th>2</th>\n",
       "      <td>8.1</td>\n",
       "      <td>0.28</td>\n",
       "      <td>0.40</td>\n",
       "      <td>6.9</td>\n",
       "      <td>0.050</td>\n",
       "      <td>30.0</td>\n",
       "      <td>97.0</td>\n",
       "      <td>0.9951</td>\n",
       "      <td>3.26</td>\n",
       "      <td>0.44</td>\n",
       "      <td>10.1</td>\n",
       "      <td>6</td>\n",
       "    </tr>\n",
       "    <tr>\n",
       "      <th>3</th>\n",
       "      <td>7.2</td>\n",
       "      <td>0.23</td>\n",
       "      <td>0.32</td>\n",
       "      <td>8.5</td>\n",
       "      <td>0.058</td>\n",
       "      <td>47.0</td>\n",
       "      <td>186.0</td>\n",
       "      <td>0.9956</td>\n",
       "      <td>3.19</td>\n",
       "      <td>0.40</td>\n",
       "      <td>9.9</td>\n",
       "      <td>6</td>\n",
       "    </tr>\n",
       "    <tr>\n",
       "      <th>4</th>\n",
       "      <td>7.2</td>\n",
       "      <td>0.23</td>\n",
       "      <td>0.32</td>\n",
       "      <td>8.5</td>\n",
       "      <td>0.058</td>\n",
       "      <td>47.0</td>\n",
       "      <td>186.0</td>\n",
       "      <td>0.9956</td>\n",
       "      <td>3.19</td>\n",
       "      <td>0.40</td>\n",
       "      <td>9.9</td>\n",
       "      <td>6</td>\n",
       "    </tr>\n",
       "  </tbody>\n",
       "</table>\n",
       "</div>"
      ],
      "text/plain": [
       "   fixed acidity  volatile acidity  citric acid  residual sugar  chlorides  \\\n",
       "0            7.0              0.27         0.36            20.7      0.045   \n",
       "1            6.3              0.30         0.34             1.6      0.049   \n",
       "2            8.1              0.28         0.40             6.9      0.050   \n",
       "3            7.2              0.23         0.32             8.5      0.058   \n",
       "4            7.2              0.23         0.32             8.5      0.058   \n",
       "\n",
       "   free sulfur dioxide  total sulfur dioxide  density    pH  sulphates  \\\n",
       "0                 45.0                 170.0   1.0010  3.00       0.45   \n",
       "1                 14.0                 132.0   0.9940  3.30       0.49   \n",
       "2                 30.0                  97.0   0.9951  3.26       0.44   \n",
       "3                 47.0                 186.0   0.9956  3.19       0.40   \n",
       "4                 47.0                 186.0   0.9956  3.19       0.40   \n",
       "\n",
       "   alcohol  quality  \n",
       "0      8.8        6  \n",
       "1      9.5        6  \n",
       "2     10.1        6  \n",
       "3      9.9        6  \n",
       "4      9.9        6  "
      ]
     },
     "execution_count": 3,
     "metadata": {},
     "output_type": "execute_result"
    }
   ],
   "source": [
    "# Importing the datasets for white wine from the open source UCI machine learning repositories\n",
    "\n",
    "white_wine_data = pd.read_csv('https://archive.ics.uci.edu/ml/machine-learning-databases/wine-quality/winequality-white.csv',delimiter=';')\n",
    "white_wine_data.head()"
   ]
  },
  {
   "cell_type": "code",
   "execution_count": 4,
   "metadata": {},
   "outputs": [
    {
     "name": "stdout",
     "output_type": "stream",
     "text": [
      "<class 'pandas.core.frame.DataFrame'>\n",
      "RangeIndex: 1599 entries, 0 to 1598\n",
      "Data columns (total 12 columns):\n",
      " #   Column                Non-Null Count  Dtype  \n",
      "---  ------                --------------  -----  \n",
      " 0   fixed acidity         1599 non-null   float64\n",
      " 1   volatile acidity      1599 non-null   float64\n",
      " 2   citric acid           1599 non-null   float64\n",
      " 3   residual sugar        1599 non-null   float64\n",
      " 4   chlorides             1599 non-null   float64\n",
      " 5   free sulfur dioxide   1599 non-null   float64\n",
      " 6   total sulfur dioxide  1599 non-null   float64\n",
      " 7   density               1599 non-null   float64\n",
      " 8   pH                    1599 non-null   float64\n",
      " 9   sulphates             1599 non-null   float64\n",
      " 10  alcohol               1599 non-null   float64\n",
      " 11  quality               1599 non-null   int64  \n",
      "dtypes: float64(11), int64(1)\n",
      "memory usage: 150.0 KB\n"
     ]
    }
   ],
   "source": [
    "# Displaying the information about columns of the red wine\n",
    "red_wine_data.info()"
   ]
  },
  {
   "cell_type": "code",
   "execution_count": 5,
   "metadata": {},
   "outputs": [
    {
     "name": "stdout",
     "output_type": "stream",
     "text": [
      "<class 'pandas.core.frame.DataFrame'>\n",
      "RangeIndex: 4898 entries, 0 to 4897\n",
      "Data columns (total 12 columns):\n",
      " #   Column                Non-Null Count  Dtype  \n",
      "---  ------                --------------  -----  \n",
      " 0   fixed acidity         4898 non-null   float64\n",
      " 1   volatile acidity      4898 non-null   float64\n",
      " 2   citric acid           4898 non-null   float64\n",
      " 3   residual sugar        4898 non-null   float64\n",
      " 4   chlorides             4898 non-null   float64\n",
      " 5   free sulfur dioxide   4898 non-null   float64\n",
      " 6   total sulfur dioxide  4898 non-null   float64\n",
      " 7   density               4898 non-null   float64\n",
      " 8   pH                    4898 non-null   float64\n",
      " 9   sulphates             4898 non-null   float64\n",
      " 10  alcohol               4898 non-null   float64\n",
      " 11  quality               4898 non-null   int64  \n",
      "dtypes: float64(11), int64(1)\n",
      "memory usage: 459.3 KB\n"
     ]
    }
   ],
   "source": [
    "# Displaying the information about columns of the white wine\n",
    "white_wine_data.info()"
   ]
  },
  {
   "cell_type": "markdown",
   "metadata": {},
   "source": [
    "# Data Preparation and Exploratory Data Analysis"
   ]
  },
  {
   "cell_type": "code",
   "execution_count": 6,
   "metadata": {},
   "outputs": [
    {
     "data": {
      "text/plain": [
       "fixed acidity           0.0\n",
       "volatile acidity        0.0\n",
       "citric acid             0.0\n",
       "residual sugar          0.0\n",
       "chlorides               0.0\n",
       "free sulfur dioxide     0.0\n",
       "total sulfur dioxide    0.0\n",
       "density                 0.0\n",
       "pH                      0.0\n",
       "sulphates               0.0\n",
       "alcohol                 0.0\n",
       "quality                 0.0\n",
       "dtype: float64"
      ]
     },
     "execution_count": 6,
     "metadata": {},
     "output_type": "execute_result"
    }
   ],
   "source": [
    "# Checking the null value percentages from red_wine data\n",
    "red_wine_data.isnull().sum()/red_wine_data.shape[0]"
   ]
  },
  {
   "cell_type": "code",
   "execution_count": 7,
   "metadata": {},
   "outputs": [
    {
     "data": {
      "text/plain": [
       "fixed acidity           0.0\n",
       "volatile acidity        0.0\n",
       "citric acid             0.0\n",
       "residual sugar          0.0\n",
       "chlorides               0.0\n",
       "free sulfur dioxide     0.0\n",
       "total sulfur dioxide    0.0\n",
       "density                 0.0\n",
       "pH                      0.0\n",
       "sulphates               0.0\n",
       "alcohol                 0.0\n",
       "quality                 0.0\n",
       "dtype: float64"
      ]
     },
     "execution_count": 7,
     "metadata": {},
     "output_type": "execute_result"
    }
   ],
   "source": [
    "# Checking the null value percentages from the white wine data\n",
    "white_wine_data.isnull().sum()/white_wine_data.shape[0]"
   ]
  },
  {
   "cell_type": "markdown",
   "metadata": {},
   "source": [
    "- There are no null values present in the data and everything is already in the required format, we can proceed with exploratory data analysis."
   ]
  },
  {
   "cell_type": "code",
   "execution_count": 8,
   "metadata": {},
   "outputs": [
    {
     "data": {
      "text/html": [
       "<div>\n",
       "<style scoped>\n",
       "    .dataframe tbody tr th:only-of-type {\n",
       "        vertical-align: middle;\n",
       "    }\n",
       "\n",
       "    .dataframe tbody tr th {\n",
       "        vertical-align: top;\n",
       "    }\n",
       "\n",
       "    .dataframe thead th {\n",
       "        text-align: right;\n",
       "    }\n",
       "</style>\n",
       "<table border=\"1\" class=\"dataframe\">\n",
       "  <thead>\n",
       "    <tr style=\"text-align: right;\">\n",
       "      <th></th>\n",
       "      <th>fixed acidity</th>\n",
       "      <th>volatile acidity</th>\n",
       "      <th>citric acid</th>\n",
       "      <th>residual sugar</th>\n",
       "      <th>chlorides</th>\n",
       "      <th>free sulfur dioxide</th>\n",
       "      <th>total sulfur dioxide</th>\n",
       "      <th>density</th>\n",
       "      <th>pH</th>\n",
       "      <th>sulphates</th>\n",
       "      <th>alcohol</th>\n",
       "      <th>quality</th>\n",
       "    </tr>\n",
       "  </thead>\n",
       "  <tbody>\n",
       "    <tr>\n",
       "      <th>0</th>\n",
       "      <td>7.4</td>\n",
       "      <td>0.70</td>\n",
       "      <td>0.00</td>\n",
       "      <td>1.9</td>\n",
       "      <td>0.076</td>\n",
       "      <td>11.0</td>\n",
       "      <td>34.0</td>\n",
       "      <td>0.9978</td>\n",
       "      <td>3.51</td>\n",
       "      <td>0.56</td>\n",
       "      <td>9.4</td>\n",
       "      <td>5</td>\n",
       "    </tr>\n",
       "    <tr>\n",
       "      <th>1</th>\n",
       "      <td>7.8</td>\n",
       "      <td>0.88</td>\n",
       "      <td>0.00</td>\n",
       "      <td>2.6</td>\n",
       "      <td>0.098</td>\n",
       "      <td>25.0</td>\n",
       "      <td>67.0</td>\n",
       "      <td>0.9968</td>\n",
       "      <td>3.20</td>\n",
       "      <td>0.68</td>\n",
       "      <td>9.8</td>\n",
       "      <td>5</td>\n",
       "    </tr>\n",
       "    <tr>\n",
       "      <th>2</th>\n",
       "      <td>7.8</td>\n",
       "      <td>0.76</td>\n",
       "      <td>0.04</td>\n",
       "      <td>2.3</td>\n",
       "      <td>0.092</td>\n",
       "      <td>15.0</td>\n",
       "      <td>54.0</td>\n",
       "      <td>0.9970</td>\n",
       "      <td>3.26</td>\n",
       "      <td>0.65</td>\n",
       "      <td>9.8</td>\n",
       "      <td>5</td>\n",
       "    </tr>\n",
       "    <tr>\n",
       "      <th>3</th>\n",
       "      <td>11.2</td>\n",
       "      <td>0.28</td>\n",
       "      <td>0.56</td>\n",
       "      <td>1.9</td>\n",
       "      <td>0.075</td>\n",
       "      <td>17.0</td>\n",
       "      <td>60.0</td>\n",
       "      <td>0.9980</td>\n",
       "      <td>3.16</td>\n",
       "      <td>0.58</td>\n",
       "      <td>9.8</td>\n",
       "      <td>6</td>\n",
       "    </tr>\n",
       "    <tr>\n",
       "      <th>4</th>\n",
       "      <td>7.4</td>\n",
       "      <td>0.70</td>\n",
       "      <td>0.00</td>\n",
       "      <td>1.9</td>\n",
       "      <td>0.076</td>\n",
       "      <td>11.0</td>\n",
       "      <td>34.0</td>\n",
       "      <td>0.9978</td>\n",
       "      <td>3.51</td>\n",
       "      <td>0.56</td>\n",
       "      <td>9.4</td>\n",
       "      <td>5</td>\n",
       "    </tr>\n",
       "  </tbody>\n",
       "</table>\n",
       "</div>"
      ],
      "text/plain": [
       "   fixed acidity  volatile acidity  citric acid  residual sugar  chlorides  \\\n",
       "0            7.4              0.70         0.00             1.9      0.076   \n",
       "1            7.8              0.88         0.00             2.6      0.098   \n",
       "2            7.8              0.76         0.04             2.3      0.092   \n",
       "3           11.2              0.28         0.56             1.9      0.075   \n",
       "4            7.4              0.70         0.00             1.9      0.076   \n",
       "\n",
       "   free sulfur dioxide  total sulfur dioxide  density    pH  sulphates  \\\n",
       "0                 11.0                  34.0   0.9978  3.51       0.56   \n",
       "1                 25.0                  67.0   0.9968  3.20       0.68   \n",
       "2                 15.0                  54.0   0.9970  3.26       0.65   \n",
       "3                 17.0                  60.0   0.9980  3.16       0.58   \n",
       "4                 11.0                  34.0   0.9978  3.51       0.56   \n",
       "\n",
       "   alcohol  quality  \n",
       "0      9.4        5  \n",
       "1      9.8        5  \n",
       "2      9.8        5  \n",
       "3      9.8        6  \n",
       "4      9.4        5  "
      ]
     },
     "execution_count": 8,
     "metadata": {},
     "output_type": "execute_result"
    }
   ],
   "source": [
    "red_wine_data.head()"
   ]
  },
  {
   "cell_type": "code",
   "execution_count": 9,
   "metadata": {},
   "outputs": [
    {
     "data": {
      "image/png": "[encoded data removed]",
      "text/plain": [
       "<Figure size 288x432 with 1 Axes>"
      ]
     },
     "metadata": {
      "needs_background": "light"
     },
     "output_type": "display_data"
    }
   ],
   "source": [
    "# Box plot for quality of red wine\n",
    "plt.figure(figsize=(4,6))\n",
    "red_wine_data.quality.plot.box()\n",
    "plt.title('Distribution of Red Wine Qualities')\n",
    "plt.show()"
   ]
  },
  {
   "cell_type": "code",
   "execution_count": 10,
   "metadata": {},
   "outputs": [
    {
     "data": {
      "image/png": "[encoded data removed]",
      "text/plain": [
       "<Figure size 288x432 with 1 Axes>"
      ]
     },
     "metadata": {
      "needs_background": "light"
     },
     "output_type": "display_data"
    }
   ],
   "source": [
    "# Box plot for quality of white wine\n",
    "plt.figure(figsize=(4,6))\n",
    "white_wine_data.quality.plot.box()\n",
    "plt.title('Distribution of White Wine Qualities')\n",
    "plt.show()"
   ]
  },
  {
   "cell_type": "markdown",
   "metadata": {},
   "source": [
    "- We can clearly see there are some outliers which has to removed, as they may affect our analysis.\n",
    "- Considering only values which has `wine quality between 4.0 to 7.0`."
   ]
  },
  {
   "cell_type": "code",
   "execution_count": 11,
   "metadata": {},
   "outputs": [
    {
     "data": {
      "text/plain": [
       "(1599, 12)"
      ]
     },
     "execution_count": 11,
     "metadata": {},
     "output_type": "execute_result"
    }
   ],
   "source": [
    "red_wine_data.shape"
   ]
  },
  {
   "cell_type": "code",
   "execution_count": 12,
   "metadata": {},
   "outputs": [
    {
     "data": {
      "text/plain": [
       "(1571, 12)"
      ]
     },
     "execution_count": 12,
     "metadata": {},
     "output_type": "execute_result"
    }
   ],
   "source": [
    "# Removing outliers for red wine data\n",
    "red_wine_data = red_wine_data[(red_wine_data.quality >= 4.0) & (red_wine_data.quality <= 7.0)]\n",
    "red_wine_data.shape"
   ]
  },
  {
   "cell_type": "code",
   "execution_count": 13,
   "metadata": {},
   "outputs": [
    {
     "data": {
      "text/plain": [
       "(4898, 12)"
      ]
     },
     "execution_count": 13,
     "metadata": {},
     "output_type": "execute_result"
    }
   ],
   "source": [
    "white_wine_data.shape"
   ]
  },
  {
   "cell_type": "code",
   "execution_count": 14,
   "metadata": {},
   "outputs": [
    {
     "data": {
      "text/plain": [
       "(4698, 12)"
      ]
     },
     "execution_count": 14,
     "metadata": {},
     "output_type": "execute_result"
    }
   ],
   "source": [
    "# Removing outliers for white wine data\n",
    "white_wine_data = white_wine_data[(white_wine_data.quality >= 4.0) & (white_wine_data.quality <= 7.0)]\n",
    "white_wine_data.shape"
   ]
  },
  {
   "cell_type": "code",
   "execution_count": 15,
   "metadata": {},
   "outputs": [
    {
     "data": {
      "text/html": [
       "<div>\n",
       "<style scoped>\n",
       "    .dataframe tbody tr th:only-of-type {\n",
       "        vertical-align: middle;\n",
       "    }\n",
       "\n",
       "    .dataframe tbody tr th {\n",
       "        vertical-align: top;\n",
       "    }\n",
       "\n",
       "    .dataframe thead th {\n",
       "        text-align: right;\n",
       "    }\n",
       "</style>\n",
       "<table border=\"1\" class=\"dataframe\">\n",
       "  <thead>\n",
       "    <tr style=\"text-align: right;\">\n",
       "      <th></th>\n",
       "      <th>fixed acidity</th>\n",
       "      <th>volatile acidity</th>\n",
       "      <th>citric acid</th>\n",
       "      <th>residual sugar</th>\n",
       "      <th>chlorides</th>\n",
       "      <th>free sulfur dioxide</th>\n",
       "      <th>total sulfur dioxide</th>\n",
       "      <th>density</th>\n",
       "      <th>pH</th>\n",
       "      <th>sulphates</th>\n",
       "      <th>alcohol</th>\n",
       "      <th>quality</th>\n",
       "    </tr>\n",
       "  </thead>\n",
       "  <tbody>\n",
       "    <tr>\n",
       "      <th>0</th>\n",
       "      <td>7.4</td>\n",
       "      <td>0.70</td>\n",
       "      <td>0.00</td>\n",
       "      <td>1.9</td>\n",
       "      <td>0.076</td>\n",
       "      <td>11.0</td>\n",
       "      <td>34.0</td>\n",
       "      <td>0.9978</td>\n",
       "      <td>3.51</td>\n",
       "      <td>0.56</td>\n",
       "      <td>9.4</td>\n",
       "      <td>5</td>\n",
       "    </tr>\n",
       "    <tr>\n",
       "      <th>1</th>\n",
       "      <td>7.8</td>\n",
       "      <td>0.88</td>\n",
       "      <td>0.00</td>\n",
       "      <td>2.6</td>\n",
       "      <td>0.098</td>\n",
       "      <td>25.0</td>\n",
       "      <td>67.0</td>\n",
       "      <td>0.9968</td>\n",
       "      <td>3.20</td>\n",
       "      <td>0.68</td>\n",
       "      <td>9.8</td>\n",
       "      <td>5</td>\n",
       "    </tr>\n",
       "    <tr>\n",
       "      <th>2</th>\n",
       "      <td>7.8</td>\n",
       "      <td>0.76</td>\n",
       "      <td>0.04</td>\n",
       "      <td>2.3</td>\n",
       "      <td>0.092</td>\n",
       "      <td>15.0</td>\n",
       "      <td>54.0</td>\n",
       "      <td>0.9970</td>\n",
       "      <td>3.26</td>\n",
       "      <td>0.65</td>\n",
       "      <td>9.8</td>\n",
       "      <td>5</td>\n",
       "    </tr>\n",
       "    <tr>\n",
       "      <th>3</th>\n",
       "      <td>11.2</td>\n",
       "      <td>0.28</td>\n",
       "      <td>0.56</td>\n",
       "      <td>1.9</td>\n",
       "      <td>0.075</td>\n",
       "      <td>17.0</td>\n",
       "      <td>60.0</td>\n",
       "      <td>0.9980</td>\n",
       "      <td>3.16</td>\n",
       "      <td>0.58</td>\n",
       "      <td>9.8</td>\n",
       "      <td>6</td>\n",
       "    </tr>\n",
       "    <tr>\n",
       "      <th>4</th>\n",
       "      <td>7.4</td>\n",
       "      <td>0.70</td>\n",
       "      <td>0.00</td>\n",
       "      <td>1.9</td>\n",
       "      <td>0.076</td>\n",
       "      <td>11.0</td>\n",
       "      <td>34.0</td>\n",
       "      <td>0.9978</td>\n",
       "      <td>3.51</td>\n",
       "      <td>0.56</td>\n",
       "      <td>9.4</td>\n",
       "      <td>5</td>\n",
       "    </tr>\n",
       "  </tbody>\n",
       "</table>\n",
       "</div>"
      ],
      "text/plain": [
       "   fixed acidity  volatile acidity  citric acid  residual sugar  chlorides  \\\n",
       "0            7.4              0.70         0.00             1.9      0.076   \n",
       "1            7.8              0.88         0.00             2.6      0.098   \n",
       "2            7.8              0.76         0.04             2.3      0.092   \n",
       "3           11.2              0.28         0.56             1.9      0.075   \n",
       "4            7.4              0.70         0.00             1.9      0.076   \n",
       "\n",
       "   free sulfur dioxide  total sulfur dioxide  density    pH  sulphates  \\\n",
       "0                 11.0                  34.0   0.9978  3.51       0.56   \n",
       "1                 25.0                  67.0   0.9968  3.20       0.68   \n",
       "2                 15.0                  54.0   0.9970  3.26       0.65   \n",
       "3                 17.0                  60.0   0.9980  3.16       0.58   \n",
       "4                 11.0                  34.0   0.9978  3.51       0.56   \n",
       "\n",
       "   alcohol  quality  \n",
       "0      9.4        5  \n",
       "1      9.8        5  \n",
       "2      9.8        5  \n",
       "3      9.8        6  \n",
       "4      9.4        5  "
      ]
     },
     "execution_count": 15,
     "metadata": {},
     "output_type": "execute_result"
    }
   ],
   "source": [
    "red_wine_data.head()"
   ]
  },
  {
   "cell_type": "code",
   "execution_count": 16,
   "metadata": {},
   "outputs": [],
   "source": [
    "# Function to plot a subplot of the provided column from the data againse quality\n",
    "def plt_linegraph(data, y_axis, title, axis):\n",
    "    sns.lineplot(y= y_axis, x='quality', data = data, ax = axis)\n",
    "    axis.set_title(title)"
   ]
  },
  {
   "cell_type": "code",
   "execution_count": 17,
   "metadata": {},
   "outputs": [],
   "source": [
    "# Plotting the line plots againts the quality for the fixed acidity and volatile acidity\n",
    "def plt_linegraphs_againt_quality(data, title):\n",
    "    fig, ax = plt.subplots(3, 4, figsize=(10,7))\n",
    "    fig.tight_layout(h_pad=5)\n",
    "    columns = [column for column in data.columns]\n",
    "    columns.remove('quality')\n",
    "    num=0\n",
    "    for i in range(3):\n",
    "        for j in range(4):\n",
    "            if num>10:\n",
    "                fig.delaxes(ax[i,j])\n",
    "                break\n",
    "            plt_linegraph(data, columns[num], columns[num].capitalize(), ax[i,j])\n",
    "            num+=1\n",
    "\n",
    "    fig.suptitle(title,fontsize=15)\n",
    "    plt.subplots_adjust(top=0.87)\n",
    "    plt.show()"
   ]
  },
  {
   "cell_type": "code",
   "execution_count": 18,
   "metadata": {},
   "outputs": [
    {
     "data": {
      "image/png": "[encoded data removed]",
      "text/plain": [
       "<Figure size 720x504 with 11 Axes>"
      ]
     },
     "metadata": {
      "needs_background": "light"
     },
     "output_type": "display_data"
    }
   ],
   "source": [
    "plt_linegraphs_againt_quality(red_wine_data,'Red Wine Physicochemical Characteristics against Quality')"
   ]
  },
  {
   "cell_type": "code",
   "execution_count": 19,
   "metadata": {},
   "outputs": [
    {
     "data": {
      "image/png": "[encoded data removed]",
      "text/plain": [
       "<Figure size 720x504 with 11 Axes>"
      ]
     },
     "metadata": {
      "needs_background": "light"
     },
     "output_type": "display_data"
    }
   ],
   "source": [
    "plt_linegraphs_againt_quality(white_wine_data,'White Wine Physicochecmical Characteristics against Quality')"
   ]
  },
  {
   "cell_type": "markdown",
   "metadata": {},
   "source": [
    "#### Inferences from the above line graphs of red and white wines physicochemical properties against quality:\n",
    "1. There is exact opposite relationship is observed for Red and White wine against quality for Fixed Acidity, Residual Sugar and PH values.\n",
    "2. Remaining characteristics shows almost similar characteristics for both Red and White Wine to decide quality."
   ]
  },
  {
   "cell_type": "markdown",
   "metadata": {},
   "source": [
    "# Train Test Split and Interdependency Analysis"
   ]
  },
  {
   "cell_type": "code",
   "execution_count": 20,
   "metadata": {},
   "outputs": [],
   "source": [
    "# Splitting the data into test and train data sets\n",
    "train_red_wine, test_red_wine = train_test_split(red_wine_data, train_size = 0.7, random_state=100)"
   ]
  },
  {
   "cell_type": "code",
   "execution_count": 21,
   "metadata": {},
   "outputs": [],
   "source": [
    "# Splitting the data into test and train data sets\n",
    "train_white_wine, test_white_wine = train_test_split(white_wine_data, train_size = 0.7, random_state=100)"
   ]
  },
  {
   "cell_type": "code",
   "execution_count": 22,
   "metadata": {},
   "outputs": [
    {
     "data": {
      "text/html": [
       "<div>\n",
       "<style scoped>\n",
       "    .dataframe tbody tr th:only-of-type {\n",
       "        vertical-align: middle;\n",
       "    }\n",
       "\n",
       "    .dataframe tbody tr th {\n",
       "        vertical-align: top;\n",
       "    }\n",
       "\n",
       "    .dataframe thead th {\n",
       "        text-align: right;\n",
       "    }\n",
       "</style>\n",
       "<table border=\"1\" class=\"dataframe\">\n",
       "  <thead>\n",
       "    <tr style=\"text-align: right;\">\n",
       "      <th></th>\n",
       "      <th>fixed acidity</th>\n",
       "      <th>volatile acidity</th>\n",
       "      <th>citric acid</th>\n",
       "      <th>residual sugar</th>\n",
       "      <th>chlorides</th>\n",
       "      <th>free sulfur dioxide</th>\n",
       "      <th>total sulfur dioxide</th>\n",
       "      <th>density</th>\n",
       "      <th>pH</th>\n",
       "      <th>sulphates</th>\n",
       "      <th>alcohol</th>\n",
       "      <th>quality</th>\n",
       "    </tr>\n",
       "  </thead>\n",
       "  <tbody>\n",
       "    <tr>\n",
       "      <th>1560</th>\n",
       "      <td>7.8</td>\n",
       "      <td>0.600</td>\n",
       "      <td>0.26</td>\n",
       "      <td>2.0</td>\n",
       "      <td>0.080</td>\n",
       "      <td>31.0</td>\n",
       "      <td>131.0</td>\n",
       "      <td>0.99622</td>\n",
       "      <td>3.21</td>\n",
       "      <td>0.52</td>\n",
       "      <td>9.90</td>\n",
       "      <td>5</td>\n",
       "    </tr>\n",
       "    <tr>\n",
       "      <th>570</th>\n",
       "      <td>11.5</td>\n",
       "      <td>0.350</td>\n",
       "      <td>0.49</td>\n",
       "      <td>3.3</td>\n",
       "      <td>0.070</td>\n",
       "      <td>10.0</td>\n",
       "      <td>37.0</td>\n",
       "      <td>1.00030</td>\n",
       "      <td>3.32</td>\n",
       "      <td>0.91</td>\n",
       "      <td>11.00</td>\n",
       "      <td>6</td>\n",
       "    </tr>\n",
       "    <tr>\n",
       "      <th>124</th>\n",
       "      <td>7.8</td>\n",
       "      <td>0.500</td>\n",
       "      <td>0.17</td>\n",
       "      <td>1.6</td>\n",
       "      <td>0.082</td>\n",
       "      <td>21.0</td>\n",
       "      <td>102.0</td>\n",
       "      <td>0.99600</td>\n",
       "      <td>3.39</td>\n",
       "      <td>0.48</td>\n",
       "      <td>9.50</td>\n",
       "      <td>5</td>\n",
       "    </tr>\n",
       "    <tr>\n",
       "      <th>1396</th>\n",
       "      <td>8.7</td>\n",
       "      <td>0.675</td>\n",
       "      <td>0.10</td>\n",
       "      <td>1.6</td>\n",
       "      <td>0.090</td>\n",
       "      <td>4.0</td>\n",
       "      <td>11.0</td>\n",
       "      <td>0.99745</td>\n",
       "      <td>3.31</td>\n",
       "      <td>0.65</td>\n",
       "      <td>9.55</td>\n",
       "      <td>5</td>\n",
       "    </tr>\n",
       "    <tr>\n",
       "      <th>1347</th>\n",
       "      <td>7.2</td>\n",
       "      <td>0.655</td>\n",
       "      <td>0.03</td>\n",
       "      <td>1.8</td>\n",
       "      <td>0.078</td>\n",
       "      <td>7.0</td>\n",
       "      <td>12.0</td>\n",
       "      <td>0.99587</td>\n",
       "      <td>3.34</td>\n",
       "      <td>0.39</td>\n",
       "      <td>9.50</td>\n",
       "      <td>5</td>\n",
       "    </tr>\n",
       "  </tbody>\n",
       "</table>\n",
       "</div>"
      ],
      "text/plain": [
       "      fixed acidity  volatile acidity  citric acid  residual sugar  chlorides  \\\n",
       "1560            7.8             0.600         0.26             2.0      0.080   \n",
       "570            11.5             0.350         0.49             3.3      0.070   \n",
       "124             7.8             0.500         0.17             1.6      0.082   \n",
       "1396            8.7             0.675         0.10             1.6      0.090   \n",
       "1347            7.2             0.655         0.03             1.8      0.078   \n",
       "\n",
       "      free sulfur dioxide  total sulfur dioxide  density    pH  sulphates  \\\n",
       "1560                 31.0                 131.0  0.99622  3.21       0.52   \n",
       "570                  10.0                  37.0  1.00030  3.32       0.91   \n",
       "124                  21.0                 102.0  0.99600  3.39       0.48   \n",
       "1396                  4.0                  11.0  0.99745  3.31       0.65   \n",
       "1347                  7.0                  12.0  0.99587  3.34       0.39   \n",
       "\n",
       "      alcohol  quality  \n",
       "1560     9.90        5  \n",
       "570     11.00        6  \n",
       "124      9.50        5  \n",
       "1396     9.55        5  \n",
       "1347     9.50        5  "
      ]
     },
     "execution_count": 22,
     "metadata": {},
     "output_type": "execute_result"
    }
   ],
   "source": [
    "# Displaying the data for some visualization\n",
    "train_red_wine.head()"
   ]
  },
  {
   "cell_type": "code",
   "execution_count": 23,
   "metadata": {},
   "outputs": [
    {
     "data": {
      "text/html": [
       "<div>\n",
       "<style scoped>\n",
       "    .dataframe tbody tr th:only-of-type {\n",
       "        vertical-align: middle;\n",
       "    }\n",
       "\n",
       "    .dataframe tbody tr th {\n",
       "        vertical-align: top;\n",
       "    }\n",
       "\n",
       "    .dataframe thead th {\n",
       "        text-align: right;\n",
       "    }\n",
       "</style>\n",
       "<table border=\"1\" class=\"dataframe\">\n",
       "  <thead>\n",
       "    <tr style=\"text-align: right;\">\n",
       "      <th></th>\n",
       "      <th>fixed acidity</th>\n",
       "      <th>volatile acidity</th>\n",
       "      <th>citric acid</th>\n",
       "      <th>residual sugar</th>\n",
       "      <th>chlorides</th>\n",
       "      <th>free sulfur dioxide</th>\n",
       "      <th>total sulfur dioxide</th>\n",
       "      <th>density</th>\n",
       "      <th>pH</th>\n",
       "      <th>sulphates</th>\n",
       "      <th>alcohol</th>\n",
       "      <th>quality</th>\n",
       "    </tr>\n",
       "  </thead>\n",
       "  <tbody>\n",
       "    <tr>\n",
       "      <th>1493</th>\n",
       "      <td>7.7</td>\n",
       "      <td>0.54</td>\n",
       "      <td>0.26</td>\n",
       "      <td>1.9</td>\n",
       "      <td>0.089</td>\n",
       "      <td>23.0</td>\n",
       "      <td>147.0</td>\n",
       "      <td>0.99636</td>\n",
       "      <td>3.26</td>\n",
       "      <td>0.59</td>\n",
       "      <td>9.7</td>\n",
       "      <td>5</td>\n",
       "    </tr>\n",
       "    <tr>\n",
       "      <th>577</th>\n",
       "      <td>8.8</td>\n",
       "      <td>0.44</td>\n",
       "      <td>0.49</td>\n",
       "      <td>2.8</td>\n",
       "      <td>0.083</td>\n",
       "      <td>18.0</td>\n",
       "      <td>111.0</td>\n",
       "      <td>0.99820</td>\n",
       "      <td>3.30</td>\n",
       "      <td>0.60</td>\n",
       "      <td>9.5</td>\n",
       "      <td>5</td>\n",
       "    </tr>\n",
       "    <tr>\n",
       "      <th>1579</th>\n",
       "      <td>6.2</td>\n",
       "      <td>0.56</td>\n",
       "      <td>0.09</td>\n",
       "      <td>1.7</td>\n",
       "      <td>0.053</td>\n",
       "      <td>24.0</td>\n",
       "      <td>32.0</td>\n",
       "      <td>0.99402</td>\n",
       "      <td>3.54</td>\n",
       "      <td>0.60</td>\n",
       "      <td>11.3</td>\n",
       "      <td>5</td>\n",
       "    </tr>\n",
       "    <tr>\n",
       "      <th>1287</th>\n",
       "      <td>8.0</td>\n",
       "      <td>0.60</td>\n",
       "      <td>0.08</td>\n",
       "      <td>2.6</td>\n",
       "      <td>0.056</td>\n",
       "      <td>3.0</td>\n",
       "      <td>7.0</td>\n",
       "      <td>0.99286</td>\n",
       "      <td>3.22</td>\n",
       "      <td>0.37</td>\n",
       "      <td>13.0</td>\n",
       "      <td>5</td>\n",
       "    </tr>\n",
       "    <tr>\n",
       "      <th>437</th>\n",
       "      <td>11.1</td>\n",
       "      <td>0.45</td>\n",
       "      <td>0.73</td>\n",
       "      <td>3.2</td>\n",
       "      <td>0.066</td>\n",
       "      <td>6.0</td>\n",
       "      <td>22.0</td>\n",
       "      <td>0.99860</td>\n",
       "      <td>3.17</td>\n",
       "      <td>0.66</td>\n",
       "      <td>11.2</td>\n",
       "      <td>6</td>\n",
       "    </tr>\n",
       "  </tbody>\n",
       "</table>\n",
       "</div>"
      ],
      "text/plain": [
       "      fixed acidity  volatile acidity  citric acid  residual sugar  chlorides  \\\n",
       "1493            7.7              0.54         0.26             1.9      0.089   \n",
       "577             8.8              0.44         0.49             2.8      0.083   \n",
       "1579            6.2              0.56         0.09             1.7      0.053   \n",
       "1287            8.0              0.60         0.08             2.6      0.056   \n",
       "437            11.1              0.45         0.73             3.2      0.066   \n",
       "\n",
       "      free sulfur dioxide  total sulfur dioxide  density    pH  sulphates  \\\n",
       "1493                 23.0                 147.0  0.99636  3.26       0.59   \n",
       "577                  18.0                 111.0  0.99820  3.30       0.60   \n",
       "1579                 24.0                  32.0  0.99402  3.54       0.60   \n",
       "1287                  3.0                   7.0  0.99286  3.22       0.37   \n",
       "437                   6.0                  22.0  0.99860  3.17       0.66   \n",
       "\n",
       "      alcohol  quality  \n",
       "1493      9.7        5  \n",
       "577       9.5        5  \n",
       "1579     11.3        5  \n",
       "1287     13.0        5  \n",
       "437      11.2        6  "
      ]
     },
     "execution_count": 23,
     "metadata": {},
     "output_type": "execute_result"
    }
   ],
   "source": [
    "test_red_wine.head()"
   ]
  },
  {
   "cell_type": "code",
   "execution_count": 24,
   "metadata": {},
   "outputs": [
    {
     "data": {
      "text/html": [
       "<div>\n",
       "<style scoped>\n",
       "    .dataframe tbody tr th:only-of-type {\n",
       "        vertical-align: middle;\n",
       "    }\n",
       "\n",
       "    .dataframe tbody tr th {\n",
       "        vertical-align: top;\n",
       "    }\n",
       "\n",
       "    .dataframe thead th {\n",
       "        text-align: right;\n",
       "    }\n",
       "</style>\n",
       "<table border=\"1\" class=\"dataframe\">\n",
       "  <thead>\n",
       "    <tr style=\"text-align: right;\">\n",
       "      <th></th>\n",
       "      <th>fixed acidity</th>\n",
       "      <th>volatile acidity</th>\n",
       "      <th>citric acid</th>\n",
       "      <th>residual sugar</th>\n",
       "      <th>chlorides</th>\n",
       "      <th>free sulfur dioxide</th>\n",
       "      <th>total sulfur dioxide</th>\n",
       "      <th>density</th>\n",
       "      <th>pH</th>\n",
       "      <th>sulphates</th>\n",
       "      <th>alcohol</th>\n",
       "      <th>quality</th>\n",
       "    </tr>\n",
       "  </thead>\n",
       "  <tbody>\n",
       "    <tr>\n",
       "      <th>count</th>\n",
       "      <td>1099.000000</td>\n",
       "      <td>1099.000000</td>\n",
       "      <td>1099.000000</td>\n",
       "      <td>1099.000000</td>\n",
       "      <td>1099.000000</td>\n",
       "      <td>1099.000000</td>\n",
       "      <td>1099.000000</td>\n",
       "      <td>1099.000000</td>\n",
       "      <td>1099.000000</td>\n",
       "      <td>1099.000000</td>\n",
       "      <td>1099.000000</td>\n",
       "      <td>1099.000000</td>\n",
       "    </tr>\n",
       "    <tr>\n",
       "      <th>mean</th>\n",
       "      <td>8.327298</td>\n",
       "      <td>0.529832</td>\n",
       "      <td>0.269318</td>\n",
       "      <td>2.518835</td>\n",
       "      <td>0.087207</td>\n",
       "      <td>15.799818</td>\n",
       "      <td>46.531392</td>\n",
       "      <td>0.996764</td>\n",
       "      <td>3.308044</td>\n",
       "      <td>0.655514</td>\n",
       "      <td>10.383060</td>\n",
       "      <td>5.630573</td>\n",
       "    </tr>\n",
       "    <tr>\n",
       "      <th>std</th>\n",
       "      <td>1.712480</td>\n",
       "      <td>0.177748</td>\n",
       "      <td>0.193411</td>\n",
       "      <td>1.409960</td>\n",
       "      <td>0.043864</td>\n",
       "      <td>10.404215</td>\n",
       "      <td>33.160140</td>\n",
       "      <td>0.001851</td>\n",
       "      <td>0.150150</td>\n",
       "      <td>0.166977</td>\n",
       "      <td>1.049987</td>\n",
       "      <td>0.742916</td>\n",
       "    </tr>\n",
       "    <tr>\n",
       "      <th>min</th>\n",
       "      <td>4.700000</td>\n",
       "      <td>0.120000</td>\n",
       "      <td>0.000000</td>\n",
       "      <td>0.900000</td>\n",
       "      <td>0.012000</td>\n",
       "      <td>1.000000</td>\n",
       "      <td>6.000000</td>\n",
       "      <td>0.990070</td>\n",
       "      <td>2.740000</td>\n",
       "      <td>0.370000</td>\n",
       "      <td>8.500000</td>\n",
       "      <td>4.000000</td>\n",
       "    </tr>\n",
       "    <tr>\n",
       "      <th>25%</th>\n",
       "      <td>7.150000</td>\n",
       "      <td>0.390000</td>\n",
       "      <td>0.095000</td>\n",
       "      <td>1.900000</td>\n",
       "      <td>0.071000</td>\n",
       "      <td>7.500000</td>\n",
       "      <td>22.000000</td>\n",
       "      <td>0.995660</td>\n",
       "      <td>3.210000</td>\n",
       "      <td>0.550000</td>\n",
       "      <td>9.500000</td>\n",
       "      <td>5.000000</td>\n",
       "    </tr>\n",
       "    <tr>\n",
       "      <th>50%</th>\n",
       "      <td>7.900000</td>\n",
       "      <td>0.520000</td>\n",
       "      <td>0.260000</td>\n",
       "      <td>2.200000</td>\n",
       "      <td>0.080000</td>\n",
       "      <td>13.000000</td>\n",
       "      <td>38.000000</td>\n",
       "      <td>0.996770</td>\n",
       "      <td>3.310000</td>\n",
       "      <td>0.620000</td>\n",
       "      <td>10.100000</td>\n",
       "      <td>6.000000</td>\n",
       "    </tr>\n",
       "    <tr>\n",
       "      <th>75%</th>\n",
       "      <td>9.200000</td>\n",
       "      <td>0.640000</td>\n",
       "      <td>0.420000</td>\n",
       "      <td>2.600000</td>\n",
       "      <td>0.090000</td>\n",
       "      <td>21.000000</td>\n",
       "      <td>61.500000</td>\n",
       "      <td>0.997800</td>\n",
       "      <td>3.400000</td>\n",
       "      <td>0.730000</td>\n",
       "      <td>11.000000</td>\n",
       "      <td>6.000000</td>\n",
       "    </tr>\n",
       "    <tr>\n",
       "      <th>max</th>\n",
       "      <td>15.900000</td>\n",
       "      <td>1.330000</td>\n",
       "      <td>1.000000</td>\n",
       "      <td>15.400000</td>\n",
       "      <td>0.610000</td>\n",
       "      <td>72.000000</td>\n",
       "      <td>289.000000</td>\n",
       "      <td>1.003690</td>\n",
       "      <td>4.010000</td>\n",
       "      <td>2.000000</td>\n",
       "      <td>14.900000</td>\n",
       "      <td>7.000000</td>\n",
       "    </tr>\n",
       "  </tbody>\n",
       "</table>\n",
       "</div>"
      ],
      "text/plain": [
       "       fixed acidity  volatile acidity  citric acid  residual sugar  \\\n",
       "count    1099.000000       1099.000000  1099.000000     1099.000000   \n",
       "mean        8.327298          0.529832     0.269318        2.518835   \n",
       "std         1.712480          0.177748     0.193411        1.409960   \n",
       "min         4.700000          0.120000     0.000000        0.900000   \n",
       "25%         7.150000          0.390000     0.095000        1.900000   \n",
       "50%         7.900000          0.520000     0.260000        2.200000   \n",
       "75%         9.200000          0.640000     0.420000        2.600000   \n",
       "max        15.900000          1.330000     1.000000       15.400000   \n",
       "\n",
       "         chlorides  free sulfur dioxide  total sulfur dioxide      density  \\\n",
       "count  1099.000000          1099.000000           1099.000000  1099.000000   \n",
       "mean      0.087207            15.799818             46.531392     0.996764   \n",
       "std       0.043864            10.404215             33.160140     0.001851   \n",
       "min       0.012000             1.000000              6.000000     0.990070   \n",
       "25%       0.071000             7.500000             22.000000     0.995660   \n",
       "50%       0.080000            13.000000             38.000000     0.996770   \n",
       "75%       0.090000            21.000000             61.500000     0.997800   \n",
       "max       0.610000            72.000000            289.000000     1.003690   \n",
       "\n",
       "                pH    sulphates      alcohol      quality  \n",
       "count  1099.000000  1099.000000  1099.000000  1099.000000  \n",
       "mean      3.308044     0.655514    10.383060     5.630573  \n",
       "std       0.150150     0.166977     1.049987     0.742916  \n",
       "min       2.740000     0.370000     8.500000     4.000000  \n",
       "25%       3.210000     0.550000     9.500000     5.000000  \n",
       "50%       3.310000     0.620000    10.100000     6.000000  \n",
       "75%       3.400000     0.730000    11.000000     6.000000  \n",
       "max       4.010000     2.000000    14.900000     7.000000  "
      ]
     },
     "execution_count": 24,
     "metadata": {},
     "output_type": "execute_result"
    }
   ],
   "source": [
    "# Discribing the data to analyze the columns\n",
    "train_red_wine.describe()"
   ]
  },
  {
   "cell_type": "markdown",
   "metadata": {},
   "source": [
    "#### Scaling the training and test data using fir_transform and transform method respectively using Standard Scaling"
   ]
  },
  {
   "cell_type": "code",
   "execution_count": 25,
   "metadata": {},
   "outputs": [],
   "source": [
    "scaler = StandardScaler()"
   ]
  },
  {
   "cell_type": "code",
   "execution_count": 26,
   "metadata": {},
   "outputs": [
    {
     "data": {
      "text/plain": [
       "['fixed acidity',\n",
       " 'volatile acidity',\n",
       " 'citric acid',\n",
       " 'residual sugar',\n",
       " 'chlorides',\n",
       " 'free sulfur dioxide',\n",
       " 'total sulfur dioxide',\n",
       " 'density',\n",
       " 'pH',\n",
       " 'sulphates',\n",
       " 'alcohol']"
      ]
     },
     "execution_count": 26,
     "metadata": {},
     "output_type": "execute_result"
    }
   ],
   "source": [
    "scale_columns = [i for i in red_wine_data.columns if i!='quality']\n",
    "scale_columns"
   ]
  },
  {
   "cell_type": "code",
   "execution_count": 27,
   "metadata": {},
   "outputs": [
    {
     "data": {
      "text/html": [
       "<div>\n",
       "<style scoped>\n",
       "    .dataframe tbody tr th:only-of-type {\n",
       "        vertical-align: middle;\n",
       "    }\n",
       "\n",
       "    .dataframe tbody tr th {\n",
       "        vertical-align: top;\n",
       "    }\n",
       "\n",
       "    .dataframe thead th {\n",
       "        text-align: right;\n",
       "    }\n",
       "</style>\n",
       "<table border=\"1\" class=\"dataframe\">\n",
       "  <thead>\n",
       "    <tr style=\"text-align: right;\">\n",
       "      <th></th>\n",
       "      <th>fixed acidity</th>\n",
       "      <th>volatile acidity</th>\n",
       "      <th>citric acid</th>\n",
       "      <th>residual sugar</th>\n",
       "      <th>chlorides</th>\n",
       "      <th>free sulfur dioxide</th>\n",
       "      <th>total sulfur dioxide</th>\n",
       "      <th>density</th>\n",
       "      <th>pH</th>\n",
       "      <th>sulphates</th>\n",
       "      <th>alcohol</th>\n",
       "      <th>quality</th>\n",
       "    </tr>\n",
       "  </thead>\n",
       "  <tbody>\n",
       "    <tr>\n",
       "      <th>1560</th>\n",
       "      <td>-0.308055</td>\n",
       "      <td>0.394942</td>\n",
       "      <td>-0.048197</td>\n",
       "      <td>-0.368146</td>\n",
       "      <td>-0.164369</td>\n",
       "      <td>1.461629</td>\n",
       "      <td>2.548453</td>\n",
       "      <td>-0.293957</td>\n",
       "      <td>-0.653268</td>\n",
       "      <td>-0.811942</td>\n",
       "      <td>-0.460273</td>\n",
       "      <td>5</td>\n",
       "    </tr>\n",
       "    <tr>\n",
       "      <th>570</th>\n",
       "      <td>1.853538</td>\n",
       "      <td>-1.012182</td>\n",
       "      <td>1.141519</td>\n",
       "      <td>0.554285</td>\n",
       "      <td>-0.392453</td>\n",
       "      <td>-0.557703</td>\n",
       "      <td>-0.287566</td>\n",
       "      <td>1.910743</td>\n",
       "      <td>0.079665</td>\n",
       "      <td>1.524769</td>\n",
       "      <td>0.587836</td>\n",
       "      <td>6</td>\n",
       "    </tr>\n",
       "    <tr>\n",
       "      <th>124</th>\n",
       "      <td>-0.308055</td>\n",
       "      <td>-0.167907</td>\n",
       "      <td>-0.513738</td>\n",
       "      <td>-0.651971</td>\n",
       "      <td>-0.118753</td>\n",
       "      <td>0.500042</td>\n",
       "      <td>1.673511</td>\n",
       "      <td>-0.412838</td>\n",
       "      <td>0.546078</td>\n",
       "      <td>-1.051604</td>\n",
       "      <td>-0.841403</td>\n",
       "      <td>5</td>\n",
       "    </tr>\n",
       "    <tr>\n",
       "      <th>1396</th>\n",
       "      <td>0.217738</td>\n",
       "      <td>0.817079</td>\n",
       "      <td>-0.875825</td>\n",
       "      <td>-0.651971</td>\n",
       "      <td>0.063714</td>\n",
       "      <td>-1.134655</td>\n",
       "      <td>-1.071997</td>\n",
       "      <td>0.370695</td>\n",
       "      <td>0.013035</td>\n",
       "      <td>-0.033038</td>\n",
       "      <td>-0.793762</td>\n",
       "      <td>5</td>\n",
       "    </tr>\n",
       "    <tr>\n",
       "      <th>1347</th>\n",
       "      <td>-0.658583</td>\n",
       "      <td>0.704509</td>\n",
       "      <td>-1.237913</td>\n",
       "      <td>-0.510059</td>\n",
       "      <td>-0.209986</td>\n",
       "      <td>-0.846179</td>\n",
       "      <td>-1.041827</td>\n",
       "      <td>-0.483086</td>\n",
       "      <td>0.212926</td>\n",
       "      <td>-1.590845</td>\n",
       "      <td>-0.841403</td>\n",
       "      <td>5</td>\n",
       "    </tr>\n",
       "  </tbody>\n",
       "</table>\n",
       "</div>"
      ],
      "text/plain": [
       "      fixed acidity  volatile acidity  citric acid  residual sugar  chlorides  \\\n",
       "1560      -0.308055          0.394942    -0.048197       -0.368146  -0.164369   \n",
       "570        1.853538         -1.012182     1.141519        0.554285  -0.392453   \n",
       "124       -0.308055         -0.167907    -0.513738       -0.651971  -0.118753   \n",
       "1396       0.217738          0.817079    -0.875825       -0.651971   0.063714   \n",
       "1347      -0.658583          0.704509    -1.237913       -0.510059  -0.209986   \n",
       "\n",
       "      free sulfur dioxide  total sulfur dioxide   density        pH  \\\n",
       "1560             1.461629              2.548453 -0.293957 -0.653268   \n",
       "570             -0.557703             -0.287566  1.910743  0.079665   \n",
       "124              0.500042              1.673511 -0.412838  0.546078   \n",
       "1396            -1.134655             -1.071997  0.370695  0.013035   \n",
       "1347            -0.846179             -1.041827 -0.483086  0.212926   \n",
       "\n",
       "      sulphates   alcohol  quality  \n",
       "1560  -0.811942 -0.460273        5  \n",
       "570    1.524769  0.587836        6  \n",
       "124   -1.051604 -0.841403        5  \n",
       "1396  -0.033038 -0.793762        5  \n",
       "1347  -1.590845 -0.841403        5  "
      ]
     },
     "execution_count": 27,
     "metadata": {},
     "output_type": "execute_result"
    }
   ],
   "source": [
    "# Scaling Red Wine Columns using Standard Scaler\n",
    "scaled_values = scaler.fit_transform(train_red_wine[scale_columns].values)\n",
    "scaled_train_red_wine = pd.DataFrame(scaled_values,index=train_red_wine.index,columns=scale_columns)\n",
    "scaled_train_red_wine['quality'] = train_red_wine['quality']\n",
    "scaled_train_red_wine.head()"
   ]
  },
  {
   "cell_type": "code",
   "execution_count": 28,
   "metadata": {},
   "outputs": [
    {
     "data": {
      "text/html": [
       "<div>\n",
       "<style scoped>\n",
       "    .dataframe tbody tr th:only-of-type {\n",
       "        vertical-align: middle;\n",
       "    }\n",
       "\n",
       "    .dataframe tbody tr th {\n",
       "        vertical-align: top;\n",
       "    }\n",
       "\n",
       "    .dataframe thead th {\n",
       "        text-align: right;\n",
       "    }\n",
       "</style>\n",
       "<table border=\"1\" class=\"dataframe\">\n",
       "  <thead>\n",
       "    <tr style=\"text-align: right;\">\n",
       "      <th></th>\n",
       "      <th>fixed acidity</th>\n",
       "      <th>volatile acidity</th>\n",
       "      <th>citric acid</th>\n",
       "      <th>residual sugar</th>\n",
       "      <th>chlorides</th>\n",
       "      <th>free sulfur dioxide</th>\n",
       "      <th>total sulfur dioxide</th>\n",
       "      <th>density</th>\n",
       "      <th>pH</th>\n",
       "      <th>sulphates</th>\n",
       "      <th>alcohol</th>\n",
       "      <th>quality</th>\n",
       "    </tr>\n",
       "  </thead>\n",
       "  <tbody>\n",
       "    <tr>\n",
       "      <th>1493</th>\n",
       "      <td>-0.366476</td>\n",
       "      <td>0.057232</td>\n",
       "      <td>-0.048197</td>\n",
       "      <td>-0.439103</td>\n",
       "      <td>0.040906</td>\n",
       "      <td>0.692360</td>\n",
       "      <td>3.031180</td>\n",
       "      <td>-0.218306</td>\n",
       "      <td>-0.320116</td>\n",
       "      <td>-0.392532</td>\n",
       "      <td>-0.650838</td>\n",
       "      <td>5</td>\n",
       "    </tr>\n",
       "    <tr>\n",
       "      <th>577</th>\n",
       "      <td>0.276160</td>\n",
       "      <td>-0.505617</td>\n",
       "      <td>1.141519</td>\n",
       "      <td>0.199504</td>\n",
       "      <td>-0.095944</td>\n",
       "      <td>0.211567</td>\n",
       "      <td>1.945045</td>\n",
       "      <td>0.775971</td>\n",
       "      <td>-0.053595</td>\n",
       "      <td>-0.332616</td>\n",
       "      <td>-0.841403</td>\n",
       "      <td>5</td>\n",
       "    </tr>\n",
       "    <tr>\n",
       "      <th>1579</th>\n",
       "      <td>-1.242798</td>\n",
       "      <td>0.169802</td>\n",
       "      <td>-0.927552</td>\n",
       "      <td>-0.581015</td>\n",
       "      <td>-0.780194</td>\n",
       "      <td>0.788518</td>\n",
       "      <td>-0.438418</td>\n",
       "      <td>-1.482766</td>\n",
       "      <td>1.545532</td>\n",
       "      <td>-0.332616</td>\n",
       "      <td>0.873684</td>\n",
       "      <td>5</td>\n",
       "    </tr>\n",
       "    <tr>\n",
       "      <th>1287</th>\n",
       "      <td>-0.191212</td>\n",
       "      <td>0.394942</td>\n",
       "      <td>-0.979279</td>\n",
       "      <td>0.057591</td>\n",
       "      <td>-0.711769</td>\n",
       "      <td>-1.230813</td>\n",
       "      <td>-1.192679</td>\n",
       "      <td>-2.109592</td>\n",
       "      <td>-0.586638</td>\n",
       "      <td>-1.710677</td>\n",
       "      <td>2.493489</td>\n",
       "      <td>5</td>\n",
       "    </tr>\n",
       "    <tr>\n",
       "      <th>437</th>\n",
       "      <td>1.619852</td>\n",
       "      <td>-0.449332</td>\n",
       "      <td>2.382962</td>\n",
       "      <td>0.483329</td>\n",
       "      <td>-0.483686</td>\n",
       "      <td>-0.942337</td>\n",
       "      <td>-0.740122</td>\n",
       "      <td>0.992118</td>\n",
       "      <td>-0.919789</td>\n",
       "      <td>0.026878</td>\n",
       "      <td>0.778401</td>\n",
       "      <td>6</td>\n",
       "    </tr>\n",
       "  </tbody>\n",
       "</table>\n",
       "</div>"
      ],
      "text/plain": [
       "      fixed acidity  volatile acidity  citric acid  residual sugar  chlorides  \\\n",
       "1493      -0.366476          0.057232    -0.048197       -0.439103   0.040906   \n",
       "577        0.276160         -0.505617     1.141519        0.199504  -0.095944   \n",
       "1579      -1.242798          0.169802    -0.927552       -0.581015  -0.780194   \n",
       "1287      -0.191212          0.394942    -0.979279        0.057591  -0.711769   \n",
       "437        1.619852         -0.449332     2.382962        0.483329  -0.483686   \n",
       "\n",
       "      free sulfur dioxide  total sulfur dioxide   density        pH  \\\n",
       "1493             0.692360              3.031180 -0.218306 -0.320116   \n",
       "577              0.211567              1.945045  0.775971 -0.053595   \n",
       "1579             0.788518             -0.438418 -1.482766  1.545532   \n",
       "1287            -1.230813             -1.192679 -2.109592 -0.586638   \n",
       "437             -0.942337             -0.740122  0.992118 -0.919789   \n",
       "\n",
       "      sulphates   alcohol  quality  \n",
       "1493  -0.392532 -0.650838        5  \n",
       "577   -0.332616 -0.841403        5  \n",
       "1579  -0.332616  0.873684        5  \n",
       "1287  -1.710677  2.493489        5  \n",
       "437    0.026878  0.778401        6  "
      ]
     },
     "execution_count": 28,
     "metadata": {},
     "output_type": "execute_result"
    }
   ],
   "source": [
    "# Using the scaler fitted model to scale the test dataset.\n",
    "scaled_test_values = scaler.transform(test_red_wine[scale_columns].values)\n",
    "scaled_test_red_wine = pd.DataFrame(scaled_test_values,index=test_red_wine.index,columns=scale_columns)\n",
    "scaled_test_red_wine['quality'] = test_red_wine['quality']\n",
    "scaled_test_red_wine.head()"
   ]
  },
  {
   "cell_type": "code",
   "execution_count": 29,
   "metadata": {},
   "outputs": [],
   "source": [
    "scaler = StandardScaler()"
   ]
  },
  {
   "cell_type": "code",
   "execution_count": 30,
   "metadata": {},
   "outputs": [
    {
     "data": {
      "text/html": [
       "<div>\n",
       "<style scoped>\n",
       "    .dataframe tbody tr th:only-of-type {\n",
       "        vertical-align: middle;\n",
       "    }\n",
       "\n",
       "    .dataframe tbody tr th {\n",
       "        vertical-align: top;\n",
       "    }\n",
       "\n",
       "    .dataframe thead th {\n",
       "        text-align: right;\n",
       "    }\n",
       "</style>\n",
       "<table border=\"1\" class=\"dataframe\">\n",
       "  <thead>\n",
       "    <tr style=\"text-align: right;\">\n",
       "      <th></th>\n",
       "      <th>fixed acidity</th>\n",
       "      <th>volatile acidity</th>\n",
       "      <th>citric acid</th>\n",
       "      <th>residual sugar</th>\n",
       "      <th>chlorides</th>\n",
       "      <th>free sulfur dioxide</th>\n",
       "      <th>total sulfur dioxide</th>\n",
       "      <th>density</th>\n",
       "      <th>pH</th>\n",
       "      <th>sulphates</th>\n",
       "      <th>alcohol</th>\n",
       "      <th>quality</th>\n",
       "    </tr>\n",
       "  </thead>\n",
       "  <tbody>\n",
       "    <tr>\n",
       "      <th>3310</th>\n",
       "      <td>-0.661622</td>\n",
       "      <td>0.223164</td>\n",
       "      <td>-0.362800</td>\n",
       "      <td>-0.847522</td>\n",
       "      <td>0.077039</td>\n",
       "      <td>-0.139716</td>\n",
       "      <td>0.088625</td>\n",
       "      <td>-1.544525</td>\n",
       "      <td>0.215575</td>\n",
       "      <td>-0.261821</td>\n",
       "      <td>2.026101</td>\n",
       "      <td>7</td>\n",
       "    </tr>\n",
       "    <tr>\n",
       "      <th>1667</th>\n",
       "      <td>2.326993</td>\n",
       "      <td>1.127556</td>\n",
       "      <td>0.043192</td>\n",
       "      <td>-0.088657</td>\n",
       "      <td>0.380240</td>\n",
       "      <td>-0.139716</td>\n",
       "      <td>-0.246662</td>\n",
       "      <td>-0.464015</td>\n",
       "      <td>-1.587507</td>\n",
       "      <td>0.182016</td>\n",
       "      <td>1.108162</td>\n",
       "      <td>6</td>\n",
       "    </tr>\n",
       "    <tr>\n",
       "      <th>1278</th>\n",
       "      <td>0.175190</td>\n",
       "      <td>-0.379764</td>\n",
       "      <td>0.205589</td>\n",
       "      <td>-0.288358</td>\n",
       "      <td>1.593044</td>\n",
       "      <td>-1.545313</td>\n",
       "      <td>-0.126916</td>\n",
       "      <td>0.052153</td>\n",
       "      <td>0.950164</td>\n",
       "      <td>-1.060727</td>\n",
       "      <td>0.273672</td>\n",
       "      <td>6</td>\n",
       "    </tr>\n",
       "    <tr>\n",
       "      <th>4319</th>\n",
       "      <td>-0.183444</td>\n",
       "      <td>1.328532</td>\n",
       "      <td>-0.768792</td>\n",
       "      <td>-0.188508</td>\n",
       "      <td>-0.486049</td>\n",
       "      <td>-0.139716</td>\n",
       "      <td>-0.558000</td>\n",
       "      <td>-1.358705</td>\n",
       "      <td>-0.452233</td>\n",
       "      <td>-0.439355</td>\n",
       "      <td>2.020538</td>\n",
       "      <td>7</td>\n",
       "    </tr>\n",
       "    <tr>\n",
       "      <th>787</th>\n",
       "      <td>1.012002</td>\n",
       "      <td>0.625116</td>\n",
       "      <td>-0.443998</td>\n",
       "      <td>0.929820</td>\n",
       "      <td>-0.269477</td>\n",
       "      <td>-0.261942</td>\n",
       "      <td>-0.510102</td>\n",
       "      <td>1.411393</td>\n",
       "      <td>0.549479</td>\n",
       "      <td>-1.770866</td>\n",
       "      <td>-1.061512</td>\n",
       "      <td>6</td>\n",
       "    </tr>\n",
       "  </tbody>\n",
       "</table>\n",
       "</div>"
      ],
      "text/plain": [
       "      fixed acidity  volatile acidity  citric acid  residual sugar  chlorides  \\\n",
       "3310      -0.661622          0.223164    -0.362800       -0.847522   0.077039   \n",
       "1667       2.326993          1.127556     0.043192       -0.088657   0.380240   \n",
       "1278       0.175190         -0.379764     0.205589       -0.288358   1.593044   \n",
       "4319      -0.183444          1.328532    -0.768792       -0.188508  -0.486049   \n",
       "787        1.012002          0.625116    -0.443998        0.929820  -0.269477   \n",
       "\n",
       "      free sulfur dioxide  total sulfur dioxide   density        pH  \\\n",
       "3310            -0.139716              0.088625 -1.544525  0.215575   \n",
       "1667            -0.139716             -0.246662 -0.464015 -1.587507   \n",
       "1278            -1.545313             -0.126916  0.052153  0.950164   \n",
       "4319            -0.139716             -0.558000 -1.358705 -0.452233   \n",
       "787             -0.261942             -0.510102  1.411393  0.549479   \n",
       "\n",
       "      sulphates   alcohol  quality  \n",
       "3310  -0.261821  2.026101        7  \n",
       "1667   0.182016  1.108162        6  \n",
       "1278  -1.060727  0.273672        6  \n",
       "4319  -0.439355  2.020538        7  \n",
       "787   -1.770866 -1.061512        6  "
      ]
     },
     "execution_count": 30,
     "metadata": {},
     "output_type": "execute_result"
    }
   ],
   "source": [
    "# Scaling White Wine Columns using Standard Scaler\n",
    "scaled_values = scaler.fit_transform(train_white_wine[scale_columns].values)\n",
    "scaled_train_white_wine = pd.DataFrame(scaled_values,index=train_white_wine.index,columns=scale_columns)\n",
    "scaled_train_white_wine['quality'] = train_white_wine['quality']\n",
    "scaled_train_white_wine.head()"
   ]
  },
  {
   "cell_type": "code",
   "execution_count": 31,
   "metadata": {},
   "outputs": [
    {
     "data": {
      "text/html": [
       "<div>\n",
       "<style scoped>\n",
       "    .dataframe tbody tr th:only-of-type {\n",
       "        vertical-align: middle;\n",
       "    }\n",
       "\n",
       "    .dataframe tbody tr th {\n",
       "        vertical-align: top;\n",
       "    }\n",
       "\n",
       "    .dataframe thead th {\n",
       "        text-align: right;\n",
       "    }\n",
       "</style>\n",
       "<table border=\"1\" class=\"dataframe\">\n",
       "  <thead>\n",
       "    <tr style=\"text-align: right;\">\n",
       "      <th></th>\n",
       "      <th>fixed acidity</th>\n",
       "      <th>volatile acidity</th>\n",
       "      <th>citric acid</th>\n",
       "      <th>residual sugar</th>\n",
       "      <th>chlorides</th>\n",
       "      <th>free sulfur dioxide</th>\n",
       "      <th>total sulfur dioxide</th>\n",
       "      <th>density</th>\n",
       "      <th>pH</th>\n",
       "      <th>sulphates</th>\n",
       "      <th>alcohol</th>\n",
       "      <th>quality</th>\n",
       "    </tr>\n",
       "  </thead>\n",
       "  <tbody>\n",
       "    <tr>\n",
       "      <th>3522</th>\n",
       "      <td>-0.302988</td>\n",
       "      <td>0.424140</td>\n",
       "      <td>0.611581</td>\n",
       "      <td>0.170955</td>\n",
       "      <td>0.077039</td>\n",
       "      <td>1.204768</td>\n",
       "      <td>0.950793</td>\n",
       "      <td>0.454763</td>\n",
       "      <td>0.082014</td>\n",
       "      <td>-0.261821</td>\n",
       "      <td>-0.894614</td>\n",
       "      <td>5</td>\n",
       "    </tr>\n",
       "    <tr>\n",
       "      <th>424</th>\n",
       "      <td>0.055646</td>\n",
       "      <td>-0.480252</td>\n",
       "      <td>0.367986</td>\n",
       "      <td>0.390626</td>\n",
       "      <td>0.033724</td>\n",
       "      <td>0.715865</td>\n",
       "      <td>0.567607</td>\n",
       "      <td>0.465086</td>\n",
       "      <td>1.016945</td>\n",
       "      <td>0.270784</td>\n",
       "      <td>0.023325</td>\n",
       "      <td>7</td>\n",
       "    </tr>\n",
       "    <tr>\n",
       "      <th>769</th>\n",
       "      <td>-0.183444</td>\n",
       "      <td>-1.686108</td>\n",
       "      <td>0.043192</td>\n",
       "      <td>0.490477</td>\n",
       "      <td>-0.139534</td>\n",
       "      <td>0.349187</td>\n",
       "      <td>-0.605898</td>\n",
       "      <td>0.740376</td>\n",
       "      <td>1.551192</td>\n",
       "      <td>-0.794425</td>\n",
       "      <td>-0.978063</td>\n",
       "      <td>7</td>\n",
       "    </tr>\n",
       "    <tr>\n",
       "      <th>219</th>\n",
       "      <td>0.772913</td>\n",
       "      <td>-0.480252</td>\n",
       "      <td>0.205589</td>\n",
       "      <td>0.131015</td>\n",
       "      <td>-0.442735</td>\n",
       "      <td>0.471413</td>\n",
       "      <td>0.543658</td>\n",
       "      <td>-0.085492</td>\n",
       "      <td>-0.986479</td>\n",
       "      <td>-1.504564</td>\n",
       "      <td>0.440570</td>\n",
       "      <td>5</td>\n",
       "    </tr>\n",
       "    <tr>\n",
       "      <th>1682</th>\n",
       "      <td>0.414279</td>\n",
       "      <td>-0.279276</td>\n",
       "      <td>-0.443998</td>\n",
       "      <td>1.608805</td>\n",
       "      <td>0.380240</td>\n",
       "      <td>1.204768</td>\n",
       "      <td>1.597418</td>\n",
       "      <td>1.566243</td>\n",
       "      <td>-0.452233</td>\n",
       "      <td>-0.971960</td>\n",
       "      <td>-1.228410</td>\n",
       "      <td>7</td>\n",
       "    </tr>\n",
       "  </tbody>\n",
       "</table>\n",
       "</div>"
      ],
      "text/plain": [
       "      fixed acidity  volatile acidity  citric acid  residual sugar  chlorides  \\\n",
       "3522      -0.302988          0.424140     0.611581        0.170955   0.077039   \n",
       "424        0.055646         -0.480252     0.367986        0.390626   0.033724   \n",
       "769       -0.183444         -1.686108     0.043192        0.490477  -0.139534   \n",
       "219        0.772913         -0.480252     0.205589        0.131015  -0.442735   \n",
       "1682       0.414279         -0.279276    -0.443998        1.608805   0.380240   \n",
       "\n",
       "      free sulfur dioxide  total sulfur dioxide   density        pH  \\\n",
       "3522             1.204768              0.950793  0.454763  0.082014   \n",
       "424              0.715865              0.567607  0.465086  1.016945   \n",
       "769              0.349187             -0.605898  0.740376  1.551192   \n",
       "219              0.471413              0.543658 -0.085492 -0.986479   \n",
       "1682             1.204768              1.597418  1.566243 -0.452233   \n",
       "\n",
       "      sulphates   alcohol  quality  \n",
       "3522  -0.261821 -0.894614        5  \n",
       "424    0.270784  0.023325        7  \n",
       "769   -0.794425 -0.978063        7  \n",
       "219   -1.504564  0.440570        5  \n",
       "1682  -0.971960 -1.228410        7  "
      ]
     },
     "execution_count": 31,
     "metadata": {},
     "output_type": "execute_result"
    }
   ],
   "source": [
    "# Using the scaler fitted model to scale the test dataset.\n",
    "scaled_test_values = scaler.transform(test_white_wine[scale_columns].values)\n",
    "scaled_test_white_wine = pd.DataFrame(scaled_test_values,index=test_white_wine.index,columns=scale_columns)\n",
    "scaled_test_white_wine['quality'] = test_white_wine['quality']\n",
    "scaled_test_white_wine.head()"
   ]
  },
  {
   "cell_type": "code",
   "execution_count": 32,
   "metadata": {},
   "outputs": [
    {
     "data": {
      "image/png": "[encoded data removed]",
      "text/plain": [
       "<Figure size 720x504 with 2 Axes>"
      ]
     },
     "metadata": {
      "needs_background": "light"
     },
     "output_type": "display_data"
    }
   ],
   "source": [
    "# Let's analyze the intercorrelation of the variables from both the train data sets using heatmaps\n",
    "plt.figure(figsize = (10,7))\n",
    "mask = np.triu(np.ones_like(scaled_train_red_wine.corr()))\n",
    "sns.heatmap(scaled_train_red_wine.corr(), mask=mask, cmap='YlGnBu', vmax=0.8, annot=True)\n",
    "plt.title('Red Wine Physicochemical Characteristics Analysis Using Heatmap')\n",
    "plt.show()"
   ]
  },
  {
   "cell_type": "markdown",
   "metadata": {},
   "source": [
    "##### Inferences from the above heatmap:\n",
    "1. We can see there are some values like citric acid and fixed acidity, density and fixed acidity, total sulfur dioxide and free sulfur dioxide.\n",
    "2. We can drop one of the columns based on the business understanding before starting the actual model building."
   ]
  },
  {
   "cell_type": "code",
   "execution_count": 33,
   "metadata": {},
   "outputs": [],
   "source": [
    "# Dropping two columns viz. free sulfur dioxide and fixed acidity as they migh cause multicollinearity\n",
    "scaled_train_red_wine.drop(['free sulfur dioxide', 'fixed acidity'],axis=1,inplace=True)\n",
    "scaled_test_red_wine.drop(['free sulfur dioxide', 'fixed acidity'],axis=1,inplace=True)"
   ]
  },
  {
   "cell_type": "code",
   "execution_count": 34,
   "metadata": {},
   "outputs": [
    {
     "data": {
      "image/png": "[encoded data removed]",
      "text/plain": [
       "<Figure size 720x504 with 2 Axes>"
      ]
     },
     "metadata": {
      "needs_background": "light"
     },
     "output_type": "display_data"
    }
   ],
   "source": [
    "# Let's analyze the intercorrelation of the variables from both the train data sets using heatmaps\n",
    "plt.figure(figsize = (10,7))\n",
    "mask = np.triu(np.ones_like(scaled_train_white_wine.corr()))\n",
    "sns.heatmap(scaled_train_white_wine.corr(), mask=mask, cmap='YlGnBu', vmax=0.8, annot=True)\n",
    "plt.title('White Wine Physicochemical Characteristics Analysis Using Heatmap')\n",
    "plt.show()"
   ]
  },
  {
   "cell_type": "markdown",
   "metadata": {},
   "source": [
    "##### Inferences from the above heatmap:\n",
    "1. We can see there is very high correlation between density and residual sugar.\n",
    "2. We can drop one of the columns based on the business understanding before starting the actual model building.`"
   ]
  },
  {
   "cell_type": "code",
   "execution_count": 35,
   "metadata": {},
   "outputs": [],
   "source": [
    "# Dropping the column density as it migh cause multicollinearity.\n",
    "scaled_train_white_wine.drop(['density'],axis=1,inplace=True)\n",
    "scaled_test_white_wine.drop(['density'],axis=1,inplace=True)"
   ]
  },
  {
   "cell_type": "markdown",
   "metadata": {},
   "source": [
    "# Model Building for Red Wine Data Set"
   ]
  },
  {
   "cell_type": "markdown",
   "metadata": {},
   "source": [
    "- We will start building the model for red wine train data set and then make predictions for the quality of the data over test data to analyze the accuracy and the factors affecting the quality of the wine."
   ]
  },
  {
   "cell_type": "code",
   "execution_count": 36,
   "metadata": {},
   "outputs": [],
   "source": [
    "# Let's create X and Y variables to build the model.\n",
    "y_train_red_wine = scaled_train_red_wine.pop('quality')\n",
    "X_train_red_wine = scaled_train_red_wine"
   ]
  },
  {
   "cell_type": "code",
   "execution_count": 37,
   "metadata": {},
   "outputs": [
    {
     "name": "stdout",
     "output_type": "stream",
     "text": [
      "                            OLS Regression Results                            \n",
      "==============================================================================\n",
      "Dep. Variable:                quality   R-squared:                       0.339\n",
      "Model:                            OLS   Adj. R-squared:                  0.334\n",
      "Method:                 Least Squares   F-statistic:                     62.15\n",
      "Date:                Wed, 20 Jan 2021   Prob (F-statistic):           7.21e-92\n",
      "Time:                        01:08:16   Log-Likelihood:                -1004.5\n",
      "No. Observations:                1099   AIC:                             2029.\n",
      "Df Residuals:                    1089   BIC:                             2079.\n",
      "Df Model:                           9                                         \n",
      "Covariance Type:            nonrobust                                         \n",
      "========================================================================================\n",
      "                           coef    std err          t      P>|t|      [0.025      0.975]\n",
      "----------------------------------------------------------------------------------------\n",
      "const                    5.6306      0.018    307.847      0.000       5.595       5.666\n",
      "volatile acidity        -0.1735      0.024     -7.258      0.000      -0.220      -0.127\n",
      "citric acid             -0.0113      0.030     -0.383      0.702      -0.070       0.047\n",
      "residual sugar           0.0427      0.022      1.969      0.049       0.000       0.085\n",
      "chlorides               -0.0670      0.022     -3.063      0.002      -0.110      -0.024\n",
      "total sulfur dioxide    -0.1102      0.020     -5.496      0.000      -0.150      -0.071\n",
      "density                 -0.0185      0.028     -0.651      0.515      -0.074       0.037\n",
      "pH                      -0.0367      0.023     -1.612      0.107      -0.081       0.008\n",
      "sulphates                0.1279      0.022      5.850      0.000       0.085       0.171\n",
      "alcohol                  0.2613      0.027      9.807      0.000       0.209       0.314\n",
      "==============================================================================\n",
      "Omnibus:                        3.450   Durbin-Watson:                   2.000\n",
      "Prob(Omnibus):                  0.178   Jarque-Bera (JB):                3.323\n",
      "Skew:                          -0.114   Prob(JB):                        0.190\n",
      "Kurtosis:                       3.142   Cond. No.                         3.77\n",
      "==============================================================================\n",
      "\n",
      "Warnings:\n",
      "[1] Standard Errors assume that the covariance matrix of the errors is correctly specified.\n"
     ]
    }
   ],
   "source": [
    "# Using statsmodels to build the model and view the required summary\n",
    "red_wine_model = sm.OLS(y_train_red_wine,sm.add_constant(X_train_red_wine)).fit()\n",
    "print(red_wine_model.summary())"
   ]
  },
  {
   "cell_type": "markdown",
   "metadata": {},
   "source": [
    "##### Inferences from the model:\n",
    "- The R-squared and adjusted r-squared values is significantly less, that means the data is covering only 33.9% of the variance to contribute towards predicting the quality.\n",
    "- Also there are some insignificant columns present in the model. So we can use Recursive Function Analysis method to select the major contributing variables in making the prediction."
   ]
  },
  {
   "cell_type": "code",
   "execution_count": 38,
   "metadata": {},
   "outputs": [],
   "source": [
    "# Running RFE with the output number of the variable equal to 7\n",
    "lm = LinearRegression()\n",
    "lm.fit(X_train_red_wine, y_train_red_wine)\n",
    "\n",
    "rfe = RFE(lm, 7) # running RFE\n",
    "rfe = rfe.fit(X_train_red_wine, y_train_red_wine)"
   ]
  },
  {
   "cell_type": "code",
   "execution_count": 39,
   "metadata": {},
   "outputs": [
    {
     "data": {
      "text/html": [
       "<div>\n",
       "<style scoped>\n",
       "    .dataframe tbody tr th:only-of-type {\n",
       "        vertical-align: middle;\n",
       "    }\n",
       "\n",
       "    .dataframe tbody tr th {\n",
       "        vertical-align: top;\n",
       "    }\n",
       "\n",
       "    .dataframe thead th {\n",
       "        text-align: right;\n",
       "    }\n",
       "</style>\n",
       "<table border=\"1\" class=\"dataframe\">\n",
       "  <thead>\n",
       "    <tr style=\"text-align: right;\">\n",
       "      <th></th>\n",
       "      <th>Column</th>\n",
       "      <th>RFE_Supported</th>\n",
       "      <th>RFE_Rank</th>\n",
       "    </tr>\n",
       "  </thead>\n",
       "  <tbody>\n",
       "    <tr>\n",
       "      <th>0</th>\n",
       "      <td>volatile acidity</td>\n",
       "      <td>True</td>\n",
       "      <td>1</td>\n",
       "    </tr>\n",
       "    <tr>\n",
       "      <th>1</th>\n",
       "      <td>citric acid</td>\n",
       "      <td>False</td>\n",
       "      <td>3</td>\n",
       "    </tr>\n",
       "    <tr>\n",
       "      <th>2</th>\n",
       "      <td>residual sugar</td>\n",
       "      <td>True</td>\n",
       "      <td>1</td>\n",
       "    </tr>\n",
       "    <tr>\n",
       "      <th>3</th>\n",
       "      <td>chlorides</td>\n",
       "      <td>True</td>\n",
       "      <td>1</td>\n",
       "    </tr>\n",
       "    <tr>\n",
       "      <th>4</th>\n",
       "      <td>total sulfur dioxide</td>\n",
       "      <td>True</td>\n",
       "      <td>1</td>\n",
       "    </tr>\n",
       "    <tr>\n",
       "      <th>5</th>\n",
       "      <td>density</td>\n",
       "      <td>False</td>\n",
       "      <td>2</td>\n",
       "    </tr>\n",
       "    <tr>\n",
       "      <th>6</th>\n",
       "      <td>pH</td>\n",
       "      <td>True</td>\n",
       "      <td>1</td>\n",
       "    </tr>\n",
       "    <tr>\n",
       "      <th>7</th>\n",
       "      <td>sulphates</td>\n",
       "      <td>True</td>\n",
       "      <td>1</td>\n",
       "    </tr>\n",
       "    <tr>\n",
       "      <th>8</th>\n",
       "      <td>alcohol</td>\n",
       "      <td>True</td>\n",
       "      <td>1</td>\n",
       "    </tr>\n",
       "  </tbody>\n",
       "</table>\n",
       "</div>"
      ],
      "text/plain": [
       "                 Column  RFE_Supported  RFE_Rank\n",
       "0      volatile acidity           True         1\n",
       "1           citric acid          False         3\n",
       "2        residual sugar           True         1\n",
       "3             chlorides           True         1\n",
       "4  total sulfur dioxide           True         1\n",
       "5               density          False         2\n",
       "6                    pH           True         1\n",
       "7             sulphates           True         1\n",
       "8               alcohol           True         1"
      ]
     },
     "execution_count": 39,
     "metadata": {},
     "output_type": "execute_result"
    }
   ],
   "source": [
    "# Displaying the column information with their rank of support for the model\n",
    "rfe_details = pd.DataFrame({'Column':X_train_red_wine.columns,'RFE_Supported':rfe.support_,'RFE_Rank':rfe.ranking_})\n",
    "rfe_details"
   ]
  },
  {
   "cell_type": "code",
   "execution_count": 40,
   "metadata": {},
   "outputs": [],
   "source": [
    "# Extracting the required columns for model building\n",
    "col_to_consider = list(X_train_red_wine.columns[rfe.support_])"
   ]
  },
  {
   "cell_type": "code",
   "execution_count": 41,
   "metadata": {},
   "outputs": [
    {
     "name": "stdout",
     "output_type": "stream",
     "text": [
      "                            OLS Regression Results                            \n",
      "==============================================================================\n",
      "Dep. Variable:                quality   R-squared:                       0.339\n",
      "Model:                            OLS   Adj. R-squared:                  0.334\n",
      "Method:                 Least Squares   F-statistic:                     79.83\n",
      "Date:                Wed, 20 Jan 2021   Prob (F-statistic):           1.48e-93\n",
      "Time:                        01:08:17   Log-Likelihood:                -1005.1\n",
      "No. Observations:                1099   AIC:                             2026.\n",
      "Df Residuals:                    1091   BIC:                             2066.\n",
      "Df Model:                           7                                         \n",
      "Covariance Type:            nonrobust                                         \n",
      "========================================================================================\n",
      "                           coef    std err          t      P>|t|      [0.025      0.975]\n",
      "----------------------------------------------------------------------------------------\n",
      "const                    5.6306      0.018    307.987      0.000       5.595       5.666\n",
      "volatile acidity        -0.1693      0.020     -8.284      0.000      -0.209      -0.129\n",
      "residual sugar           0.0344      0.019      1.806      0.071      -0.003       0.072\n",
      "chlorides               -0.0673      0.021     -3.134      0.002      -0.109      -0.025\n",
      "total sulfur dioxide    -0.1079      0.019     -5.584      0.000      -0.146      -0.070\n",
      "pH                      -0.0288      0.020     -1.430      0.153      -0.068       0.011\n",
      "sulphates                0.1233      0.021      5.807      0.000       0.082       0.165\n",
      "alcohol                  0.2692      0.020     13.319      0.000       0.230       0.309\n",
      "==============================================================================\n",
      "Omnibus:                        3.171   Durbin-Watson:                   2.002\n",
      "Prob(Omnibus):                  0.205   Jarque-Bera (JB):                3.035\n",
      "Skew:                          -0.112   Prob(JB):                        0.219\n",
      "Kurtosis:                       3.126   Cond. No.                         1.97\n",
      "==============================================================================\n",
      "\n",
      "Warnings:\n",
      "[1] Standard Errors assume that the covariance matrix of the errors is correctly specified.\n"
     ]
    }
   ],
   "source": [
    "# Again building the model using statsmodels with the columns considered by RFE method.\n",
    "red_wine_model = sm.OLS(y_train_red_wine,sm.add_constant(X_train_red_wine[col_to_consider])).fit()\n",
    "print(red_wine_model.summary())"
   ]
  },
  {
   "cell_type": "code",
   "execution_count": 42,
   "metadata": {},
   "outputs": [],
   "source": [
    "# Let's define the function to calculate the VIFs (Variance Inflation Factor) to analyze the multicollinearity\n",
    "def cal_vif_red_wine(col_to_consider):\n",
    "    vif = pd.DataFrame()\n",
    "    X = X_train_red_wine[col_to_consider]\n",
    "    vif['Features'] = X.columns\n",
    "    vif['VIF'] = [variance_inflation_factor(X.values, i) for i in range(X.shape[1])]\n",
    "    vif['VIF'] = round(vif['VIF'], 2)\n",
    "    vif = vif.sort_values(by = \"VIF\", ascending = False)\n",
    "    return vif"
   ]
  },
  {
   "cell_type": "code",
   "execution_count": 43,
   "metadata": {},
   "outputs": [
    {
     "data": {
      "text/html": [
       "<div>\n",
       "<style scoped>\n",
       "    .dataframe tbody tr th:only-of-type {\n",
       "        vertical-align: middle;\n",
       "    }\n",
       "\n",
       "    .dataframe tbody tr th {\n",
       "        vertical-align: top;\n",
       "    }\n",
       "\n",
       "    .dataframe thead th {\n",
       "        text-align: right;\n",
       "    }\n",
       "</style>\n",
       "<table border=\"1\" class=\"dataframe\">\n",
       "  <thead>\n",
       "    <tr style=\"text-align: right;\">\n",
       "      <th></th>\n",
       "      <th>Features</th>\n",
       "      <th>VIF</th>\n",
       "    </tr>\n",
       "  </thead>\n",
       "  <tbody>\n",
       "    <tr>\n",
       "      <th>2</th>\n",
       "      <td>chlorides</td>\n",
       "      <td>1.38</td>\n",
       "    </tr>\n",
       "    <tr>\n",
       "      <th>5</th>\n",
       "      <td>sulphates</td>\n",
       "      <td>1.35</td>\n",
       "    </tr>\n",
       "    <tr>\n",
       "      <th>0</th>\n",
       "      <td>volatile acidity</td>\n",
       "      <td>1.25</td>\n",
       "    </tr>\n",
       "    <tr>\n",
       "      <th>6</th>\n",
       "      <td>alcohol</td>\n",
       "      <td>1.22</td>\n",
       "    </tr>\n",
       "    <tr>\n",
       "      <th>4</th>\n",
       "      <td>pH</td>\n",
       "      <td>1.21</td>\n",
       "    </tr>\n",
       "    <tr>\n",
       "      <th>3</th>\n",
       "      <td>total sulfur dioxide</td>\n",
       "      <td>1.12</td>\n",
       "    </tr>\n",
       "    <tr>\n",
       "      <th>1</th>\n",
       "      <td>residual sugar</td>\n",
       "      <td>1.09</td>\n",
       "    </tr>\n",
       "  </tbody>\n",
       "</table>\n",
       "</div>"
      ],
      "text/plain": [
       "               Features   VIF\n",
       "2             chlorides  1.38\n",
       "5             sulphates  1.35\n",
       "0      volatile acidity  1.25\n",
       "6               alcohol  1.22\n",
       "4                    pH  1.21\n",
       "3  total sulfur dioxide  1.12\n",
       "1        residual sugar  1.09"
      ]
     },
     "execution_count": 43,
     "metadata": {},
     "output_type": "execute_result"
    }
   ],
   "source": [
    "cal_vif_red_wine(col_to_consider)"
   ]
  },
  {
   "cell_type": "markdown",
   "metadata": {},
   "source": [
    "- All the values have a good VIFs but we can observe some insignificant variables in the model with high p values."
   ]
  },
  {
   "cell_type": "markdown",
   "metadata": {},
   "source": [
    "### Building Model 1"
   ]
  },
  {
   "cell_type": "code",
   "execution_count": 44,
   "metadata": {},
   "outputs": [],
   "source": [
    "# Dropping the pH from the model and rebuilding it.\n",
    "first_model_cols = col_to_consider[:]\n",
    "first_model_cols.remove('pH')"
   ]
  },
  {
   "cell_type": "code",
   "execution_count": 45,
   "metadata": {},
   "outputs": [
    {
     "name": "stdout",
     "output_type": "stream",
     "text": [
      "                            OLS Regression Results                            \n",
      "==============================================================================\n",
      "Dep. Variable:                quality   R-squared:                       0.337\n",
      "Model:                            OLS   Adj. R-squared:                  0.334\n",
      "Method:                 Least Squares   F-statistic:                     92.71\n",
      "Date:                Wed, 20 Jan 2021   Prob (F-statistic):           4.06e-94\n",
      "Time:                        01:08:18   Log-Likelihood:                -1006.1\n",
      "No. Observations:                1099   AIC:                             2026.\n",
      "Df Residuals:                    1092   BIC:                             2061.\n",
      "Df Model:                           6                                         \n",
      "Covariance Type:            nonrobust                                         \n",
      "========================================================================================\n",
      "                           coef    std err          t      P>|t|      [0.025      0.975]\n",
      "----------------------------------------------------------------------------------------\n",
      "const                    5.6306      0.018    307.839      0.000       5.595       5.666\n",
      "volatile acidity        -0.1774      0.020     -9.040      0.000      -0.216      -0.139\n",
      "residual sugar           0.0360      0.019      1.891      0.059      -0.001       0.073\n",
      "chlorides               -0.0610      0.021     -2.899      0.004      -0.102      -0.020\n",
      "total sulfur dioxide    -0.1076      0.019     -5.567      0.000      -0.146      -0.070\n",
      "sulphates                0.1249      0.021      5.891      0.000       0.083       0.167\n",
      "alcohol                  0.2634      0.020     13.295      0.000       0.225       0.302\n",
      "==============================================================================\n",
      "Omnibus:                        3.032   Durbin-Watson:                   2.004\n",
      "Prob(Omnibus):                  0.220   Jarque-Bera (JB):                2.895\n",
      "Skew:                          -0.110   Prob(JB):                        0.235\n",
      "Kurtosis:                       3.123   Cond. No.                         1.82\n",
      "==============================================================================\n",
      "\n",
      "Warnings:\n",
      "[1] Standard Errors assume that the covariance matrix of the errors is correctly specified.\n",
      "\n",
      "\n",
      "VIFs of columns: \n",
      "               Features   VIF\n",
      "4             sulphates  1.34\n",
      "2             chlorides  1.32\n",
      "5               alcohol  1.17\n",
      "0      volatile acidity  1.15\n",
      "3  total sulfur dioxide  1.12\n",
      "1        residual sugar  1.08\n"
     ]
    }
   ],
   "source": [
    "red_wine_model1 = sm.OLS(y_train_red_wine,sm.add_constant(X_train_red_wine[first_model_cols])).fit()\n",
    "print(red_wine_model1.summary())\n",
    "print(\"\\n\\nVIFs of columns: \")\n",
    "print(cal_vif_red_wine(first_model_cols))"
   ]
  },
  {
   "cell_type": "markdown",
   "metadata": {},
   "source": [
    "- Residual sugar is also insignificant after rebuilding the model with slightly higher p value."
   ]
  },
  {
   "cell_type": "markdown",
   "metadata": {},
   "source": [
    "### Building Model 2"
   ]
  },
  {
   "cell_type": "code",
   "execution_count": 46,
   "metadata": {},
   "outputs": [],
   "source": [
    "# Dropping the pH from the model and rebuilding it.\n",
    "second_model_cols = first_model_cols[:]\n",
    "second_model_cols.remove('residual sugar')"
   ]
  },
  {
   "cell_type": "code",
   "execution_count": 47,
   "metadata": {},
   "outputs": [
    {
     "name": "stdout",
     "output_type": "stream",
     "text": [
      "                            OLS Regression Results                            \n",
      "==============================================================================\n",
      "Dep. Variable:                quality   R-squared:                       0.335\n",
      "Model:                            OLS   Adj. R-squared:                  0.332\n",
      "Method:                 Least Squares   F-statistic:                     110.3\n",
      "Date:                Wed, 20 Jan 2021   Prob (F-statistic):           2.16e-94\n",
      "Time:                        01:08:18   Log-Likelihood:                -1007.9\n",
      "No. Observations:                1099   AIC:                             2028.\n",
      "Df Residuals:                    1093   BIC:                             2058.\n",
      "Df Model:                           5                                         \n",
      "Covariance Type:            nonrobust                                         \n",
      "========================================================================================\n",
      "                           coef    std err          t      P>|t|      [0.025      0.975]\n",
      "----------------------------------------------------------------------------------------\n",
      "const                    5.6306      0.018    307.477      0.000       5.595       5.667\n",
      "volatile acidity        -0.1780      0.020     -9.060      0.000      -0.217      -0.139\n",
      "chlorides               -0.0570      0.021     -2.722      0.007      -0.098      -0.016\n",
      "total sulfur dioxide    -0.0982      0.019     -5.251      0.000      -0.135      -0.061\n",
      "sulphates                0.1231      0.021      5.805      0.000       0.082       0.165\n",
      "alcohol                  0.2669      0.020     13.514      0.000       0.228       0.306\n",
      "==============================================================================\n",
      "Omnibus:                        1.202   Durbin-Watson:                   2.010\n",
      "Prob(Omnibus):                  0.548   Jarque-Bera (JB):                1.110\n",
      "Skew:                          -0.074   Prob(JB):                        0.574\n",
      "Kurtosis:                       3.050   Cond. No.                         1.76\n",
      "==============================================================================\n",
      "\n",
      "Warnings:\n",
      "[1] Standard Errors assume that the covariance matrix of the errors is correctly specified.\n",
      "\n",
      "\n",
      "VIFs of columns: \n",
      "               Features   VIF\n",
      "3             sulphates  1.34\n",
      "1             chlorides  1.31\n",
      "4               alcohol  1.16\n",
      "0      volatile acidity  1.15\n",
      "2  total sulfur dioxide  1.04\n"
     ]
    }
   ],
   "source": [
    "red_wine_model2 = sm.OLS(y_train_red_wine,sm.add_constant(X_train_red_wine[second_model_cols])).fit()\n",
    "print(red_wine_model2.summary())\n",
    "print(\"\\n\\nVIFs of columns: \")\n",
    "print(cal_vif_red_wine(second_model_cols))"
   ]
  },
  {
   "cell_type": "markdown",
   "metadata": {},
   "source": [
    "##### Inferences from the above model:\n",
    "- This seems to be a good model with no insignificant values and a very good VIF values.\n",
    "- We have got a low R-squared and adjusted R-squared values though which means these fields contribute less towards predicting the quality of wine. May be this can be avoided by using very large date set or by introducing some more information in the dataset which might be relevant in predicting the quality of red wine.\n",
    "- Let's start residual analysis and make predictions using the models."
   ]
  },
  {
   "cell_type": "code",
   "execution_count": 48,
   "metadata": {},
   "outputs": [],
   "source": [
    "# Dividing the test data into X and y for model building\n",
    "y_test_red_wine = test_red_wine.pop('quality')\n",
    "X_test_red_wine = test_red_wine"
   ]
  },
  {
   "cell_type": "code",
   "execution_count": 49,
   "metadata": {},
   "outputs": [
    {
     "name": "stdout",
     "output_type": "stream",
     "text": [
      "Mean Squared Error for Model 1:  17.21878387292104\n",
      "\n",
      "                     Train_Data  Test_Data\n",
      "R-squared             0.337484 -29.574087\n",
      "Adjusted R-squared    0.333844 -29.968591\n"
     ]
    }
   ],
   "source": [
    "# Making predictions using the model 1 to calculate the r-squared and adjusted r-squared for the test data \n",
    "\n",
    "X = X_test_red_wine[first_model_cols]\n",
    "predicted_count = red_wine_model1.predict(sm.add_constant(X))\n",
    "\n",
    "# Calculating the mean squared error and r-squared values\n",
    "pred_mse = mean_squared_error(y_test_red_wine, predicted_count)\n",
    "pred_r_squared = r2_score(y_test_red_wine, predicted_count)\n",
    "pred_adj_r_squared = (1 - (1-pred_r_squared)*(len(predicted_count)-1)/(len(predicted_count)-X.shape[1]-1))\n",
    "data = {'Train_Data':\n",
    "        {'R-squared' : red_wine_model1.rsquared,\n",
    "         'Adjusted R-squared' : red_wine_model1.rsquared_adj},\n",
    "        'Test_Data':\n",
    "        {'R-squared' : pred_r_squared,\n",
    "         'Adjusted R-squared' : pred_adj_r_squared}}\n",
    "model1_results = pd.DataFrame(data)\n",
    "print(\"Mean Squared Error for Model 1: \",pred_mse)\n",
    "print(\"\\n\",model1_results)"
   ]
  },
  {
   "cell_type": "markdown",
   "metadata": {},
   "source": [
    "##### Inferences from the predictions:\n",
    "- As we have got negative r-squared values, that means it's making wrong predictions over the test data sets.\n",
    "- This data makes no sense in predicting the quality of the red wine using this model."
   ]
  },
  {
   "cell_type": "code",
   "execution_count": 50,
   "metadata": {},
   "outputs": [
    {
     "name": "stdout",
     "output_type": "stream",
     "text": [
      "Mean Squared Error for Model 2:  13.655408488802017\n",
      "\n",
      "                     Train_Data  Test_Data\n",
      "R-squared             0.335316 -23.246872\n",
      "Adjusted R-squared    0.332275 -23.507031\n"
     ]
    }
   ],
   "source": [
    "# Making predictions using the model 2 to calculate the r-squared and adjusted r-squared for the test data \n",
    "\n",
    "X = X_test_red_wine[second_model_cols]\n",
    "predicted_count = red_wine_model2.predict(sm.add_constant(X))\n",
    "\n",
    "# Calculating the mean squared error and r-squared values\n",
    "pred_mse = mean_squared_error(y_test_red_wine, predicted_count)\n",
    "pred_r_squared = r2_score(y_test_red_wine, predicted_count)\n",
    "pred_adj_r_squared = (1 - (1-pred_r_squared)*(len(predicted_count)-1)/(len(predicted_count)-X.shape[1]-1))\n",
    "data = {'Train_Data':\n",
    "        {'R-squared' : red_wine_model2.rsquared,\n",
    "         'Adjusted R-squared' : red_wine_model2.rsquared_adj},\n",
    "        'Test_Data':\n",
    "        {'R-squared' : pred_r_squared,\n",
    "         'Adjusted R-squared' : pred_adj_r_squared}}\n",
    "model2_results = pd.DataFrame(data)\n",
    "print(\"Mean Squared Error for Model 2: \",pred_mse)\n",
    "print(\"\\n\",model2_results)"
   ]
  },
  {
   "cell_type": "markdown",
   "metadata": {},
   "source": [
    "##### Inferences from the predictions:\n",
    "- As we have got negative r-squared values, that means it's making wrong predictions over the test data sets.\n",
    "- This data makes no sense in predicting the quality of the red wine using this model."
   ]
  },
  {
   "cell_type": "markdown",
   "metadata": {},
   "source": [
    "## Residual Analysis"
   ]
  },
  {
   "cell_type": "code",
   "execution_count": 51,
   "metadata": {},
   "outputs": [],
   "source": [
    "predicted_quality = red_wine_model2.predict(sm.add_constant(X_train_red_wine[second_model_cols]))"
   ]
  },
  {
   "cell_type": "code",
   "execution_count": 52,
   "metadata": {},
   "outputs": [
    {
     "data": {
      "text/plain": [
       "Text(0.5, 0, 'Errors')"
      ]
     },
     "execution_count": 52,
     "metadata": {},
     "output_type": "execute_result"
    },
    {
     "data": {
      "image/png": "[encoded data removed]",
      "text/plain": [
       "<Figure size 432x288 with 1 Axes>"
      ]
     },
     "metadata": {
      "needs_background": "light"
     },
     "output_type": "display_data"
    }
   ],
   "source": [
    "# Plot the histogram of the error terms\n",
    "fig = plt.figure()\n",
    "sns.distplot((y_train_red_wine - predicted_quality), bins = 20)\n",
    "fig.suptitle('Error Terms', fontsize = 20)                  # Plot heading \n",
    "plt.xlabel('Errors', fontsize = 18)                         # X-label"
   ]
  },
  {
   "cell_type": "code",
   "execution_count": 53,
   "metadata": {},
   "outputs": [
    {
     "data": {
      "image/png": "[encoded data removed]",
      "text/plain": [
       "<Figure size 432x288 with 1 Axes>"
      ]
     },
     "metadata": {
      "needs_background": "light"
     },
     "output_type": "display_data"
    }
   ],
   "source": [
    "# Plotting the qqplot to check the error terms standard normal distribution\n",
    "sm.qqplot((y_train_red_wine - predicted_quality),fit=True, line='45')\n",
    "plt.title('Red Wine Quality: Q-Q plot for Error Terms')\n",
    "plt.show()"
   ]
  },
  {
   "cell_type": "markdown",
   "metadata": {},
   "source": [
    "#### Inferences from the above Distplot:\n",
    "- We have plotted the histogram of error terms i.e. difference between the actual and predicted values for the trained data.\n",
    "- From the Q-Q plot, the quantiles of error terms are matched with the line at 45 degree. That means we are comparing the distribution of error terms with standard normal distribution. And from the plot we can say that \n",
    "- With respect to assumption for linear regression, the error terms should be normally distributed, by observing the above distribution plot, we can say that `the error terms are normally distributed` and the assumption is not violated."
   ]
  },
  {
   "cell_type": "code",
   "execution_count": 54,
   "metadata": {},
   "outputs": [
    {
     "data": {
      "text/plain": [
       "Text(0, 0.5, 'Error Terms')"
      ]
     },
     "execution_count": 54,
     "metadata": {},
     "output_type": "execute_result"
    },
    {
     "data": {
      "image/png": "[encoded data removed]",
      "text/plain": [
       "<Figure size 432x288 with 1 Axes>"
      ]
     },
     "metadata": {
      "needs_background": "light"
     },
     "output_type": "display_data"
    }
   ],
   "source": [
    "# Let's plot the scatter plot between the residuals and the predicted values.\n",
    "sns.scatterplot(x=predicted_quality, y=y_train_red_wine-predicted_quality)\n",
    "plt.suptitle('Predicted Quality Vs Error Terms', fontsize=15) \n",
    "plt.xlabel('Predicted Quality', fontsize=18)\n",
    "plt.ylabel('Error Terms', fontsize=16)"
   ]
  },
  {
   "cell_type": "markdown",
   "metadata": {},
   "source": [
    "#### Inferences from the above scatterplot:\n",
    "- We can clearly observe relationship between the predicted values and error terms based on a specific pattern. Those aren't centered around zero, and this is not uniform throughout the data.\n",
    "- So we can say that our model is `not a very good model` as there is some specific relation observed between the `predicted values and error terms` from the scatterplot. Our assumption for `independence of error terms is violated`."
   ]
  },
  {
   "cell_type": "markdown",
   "metadata": {},
   "source": [
    "#### Analysis of Actual Vs Predicted Quality"
   ]
  },
  {
   "cell_type": "code",
   "execution_count": 55,
   "metadata": {},
   "outputs": [
    {
     "data": {
      "text/plain": [
       "Text(0, 0.5, 'Count')"
      ]
     },
     "execution_count": 55,
     "metadata": {},
     "output_type": "execute_result"
    },
    {
     "data": {
      "image/png": "[encoded data removed]",
      "text/plain": [
       "<Figure size 432x288 with 1 Axes>"
      ]
     },
     "metadata": {
      "needs_background": "light"
     },
     "output_type": "display_data"
    }
   ],
   "source": [
    "#Actual vs Predicted\n",
    "c = [i for i in range(1,y_test_red_wine.shape[0]+1,1)]\n",
    "fig = plt.figure()\n",
    "plt.plot(c,y_test_red_wine, color=\"blue\", linewidth=2.5, linestyle=\"-\")\n",
    "plt.plot(c,predicted_count, color=\"red\",  linewidth=2.5, linestyle=\"-\")\n",
    "fig.suptitle('Actual Vs Predicted', fontsize=20)              # Plot heading \n",
    "plt.xlabel('Index', fontsize=18)                               # X-label\n",
    "plt.ylabel('Count', fontsize=16)                               # Y-label"
   ]
  },
  {
   "cell_type": "markdown",
   "metadata": {},
   "source": [
    "#### Inferences from the above scatter plot for the actual vs predicted count on test data for 'average' column:\n",
    "- We have plotted the actual values for quality column vs the predicted values for quality column using Model2.\n",
    "- We can see the predicted values from the actual values differ a lot.\n",
    "- Thus we can conclude that our model does not predict well for the test data."
   ]
  },
  {
   "cell_type": "markdown",
   "metadata": {},
   "source": [
    "# Model Building for White Wine Data Set"
   ]
  },
  {
   "cell_type": "markdown",
   "metadata": {},
   "source": [
    "- We will start building the model for white wine train data set and then make predictions for the quality of the data over test data to analyze the accuracy and the factors affecting the quality of the wine."
   ]
  },
  {
   "cell_type": "code",
   "execution_count": 56,
   "metadata": {},
   "outputs": [],
   "source": [
    "# Let's create X and Y variables to build the model.\n",
    "y_train_white_wine = scaled_train_white_wine.pop('quality')\n",
    "X_train_white_wine = scaled_train_white_wine"
   ]
  },
  {
   "cell_type": "code",
   "execution_count": 57,
   "metadata": {},
   "outputs": [
    {
     "name": "stdout",
     "output_type": "stream",
     "text": [
      "                            OLS Regression Results                            \n",
      "==============================================================================\n",
      "Dep. Variable:                quality   R-squared:                       0.295\n",
      "Model:                            OLS   Adj. R-squared:                  0.292\n",
      "Method:                 Least Squares   F-statistic:                     136.9\n",
      "Date:                Wed, 20 Jan 2021   Prob (F-statistic):          1.07e-239\n",
      "Time:                        01:08:20   Log-Likelihood:                -3220.2\n",
      "No. Observations:                3288   AIC:                             6462.\n",
      "Df Residuals:                    3277   BIC:                             6529.\n",
      "Df Model:                          10                                         \n",
      "Covariance Type:            nonrobust                                         \n",
      "========================================================================================\n",
      "                           coef    std err          t      P>|t|      [0.025      0.975]\n",
      "----------------------------------------------------------------------------------------\n",
      "const                    5.8163      0.011    516.755      0.000       5.794       5.838\n",
      "fixed acidity           -0.0281      0.013     -2.169      0.030      -0.054      -0.003\n",
      "volatile acidity        -0.1939      0.012    -16.284      0.000      -0.217      -0.171\n",
      "citric acid             -0.0033      0.012     -0.275      0.784      -0.027       0.021\n",
      "residual sugar           0.1072      0.014      7.873      0.000       0.080       0.134\n",
      "chlorides               -0.0087      0.012     -0.709      0.478      -0.033       0.015\n",
      "free sulfur dioxide      0.0831      0.015      5.591      0.000       0.054       0.112\n",
      "total sulfur dioxide    -0.0380      0.016     -2.326      0.020      -0.070      -0.006\n",
      "pH                       0.0268      0.013      2.083      0.037       0.002       0.052\n",
      "sulphates                0.0546      0.012      4.734      0.000       0.032       0.077\n",
      "alcohol                  0.3912      0.014     27.252      0.000       0.363       0.419\n",
      "==============================================================================\n",
      "Omnibus:                        5.412   Durbin-Watson:                   2.011\n",
      "Prob(Omnibus):                  0.067   Jarque-Bera (JB):                5.466\n",
      "Skew:                          -0.096   Prob(JB):                       0.0650\n",
      "Kurtosis:                       2.945   Cond. No.                         2.89\n",
      "==============================================================================\n",
      "\n",
      "Warnings:\n",
      "[1] Standard Errors assume that the covariance matrix of the errors is correctly specified.\n"
     ]
    }
   ],
   "source": [
    "# Using statsmodels to build the model and view the required summary\n",
    "white_wine_model = sm.OLS(y_train_white_wine,sm.add_constant(X_train_white_wine)).fit()\n",
    "print(white_wine_model.summary())"
   ]
  },
  {
   "cell_type": "markdown",
   "metadata": {},
   "source": [
    "##### Inferences from the model:\n",
    "- The R-squared and adjusted r-squared values is significantly less, that means the data is covering only 30% of the variance to contribute towards predicting the quality.\n",
    "- Also there are some insignificant columns present in the model. So we can use Recursive Function Analysis method to select the major contributing variables in making the prediction."
   ]
  },
  {
   "cell_type": "code",
   "execution_count": 58,
   "metadata": {},
   "outputs": [],
   "source": [
    "# Running RFE with the output number of the variable equal to 7\n",
    "lm = LinearRegression()\n",
    "lm.fit(X_train_white_wine, y_train_white_wine)\n",
    "\n",
    "rfe = RFE(lm, 7) # running RFE\n",
    "rfe = rfe.fit(X_train_white_wine, y_train_white_wine)"
   ]
  },
  {
   "cell_type": "code",
   "execution_count": 59,
   "metadata": {},
   "outputs": [
    {
     "data": {
      "text/html": [
       "<div>\n",
       "<style scoped>\n",
       "    .dataframe tbody tr th:only-of-type {\n",
       "        vertical-align: middle;\n",
       "    }\n",
       "\n",
       "    .dataframe tbody tr th {\n",
       "        vertical-align: top;\n",
       "    }\n",
       "\n",
       "    .dataframe thead th {\n",
       "        text-align: right;\n",
       "    }\n",
       "</style>\n",
       "<table border=\"1\" class=\"dataframe\">\n",
       "  <thead>\n",
       "    <tr style=\"text-align: right;\">\n",
       "      <th></th>\n",
       "      <th>Column</th>\n",
       "      <th>RFE_Supported</th>\n",
       "      <th>RFE_Rank</th>\n",
       "    </tr>\n",
       "  </thead>\n",
       "  <tbody>\n",
       "    <tr>\n",
       "      <th>0</th>\n",
       "      <td>fixed acidity</td>\n",
       "      <td>True</td>\n",
       "      <td>1</td>\n",
       "    </tr>\n",
       "    <tr>\n",
       "      <th>1</th>\n",
       "      <td>volatile acidity</td>\n",
       "      <td>True</td>\n",
       "      <td>1</td>\n",
       "    </tr>\n",
       "    <tr>\n",
       "      <th>2</th>\n",
       "      <td>citric acid</td>\n",
       "      <td>False</td>\n",
       "      <td>4</td>\n",
       "    </tr>\n",
       "    <tr>\n",
       "      <th>3</th>\n",
       "      <td>residual sugar</td>\n",
       "      <td>True</td>\n",
       "      <td>1</td>\n",
       "    </tr>\n",
       "    <tr>\n",
       "      <th>4</th>\n",
       "      <td>chlorides</td>\n",
       "      <td>False</td>\n",
       "      <td>3</td>\n",
       "    </tr>\n",
       "    <tr>\n",
       "      <th>5</th>\n",
       "      <td>free sulfur dioxide</td>\n",
       "      <td>True</td>\n",
       "      <td>1</td>\n",
       "    </tr>\n",
       "    <tr>\n",
       "      <th>6</th>\n",
       "      <td>total sulfur dioxide</td>\n",
       "      <td>True</td>\n",
       "      <td>1</td>\n",
       "    </tr>\n",
       "    <tr>\n",
       "      <th>7</th>\n",
       "      <td>pH</td>\n",
       "      <td>False</td>\n",
       "      <td>2</td>\n",
       "    </tr>\n",
       "    <tr>\n",
       "      <th>8</th>\n",
       "      <td>sulphates</td>\n",
       "      <td>True</td>\n",
       "      <td>1</td>\n",
       "    </tr>\n",
       "    <tr>\n",
       "      <th>9</th>\n",
       "      <td>alcohol</td>\n",
       "      <td>True</td>\n",
       "      <td>1</td>\n",
       "    </tr>\n",
       "  </tbody>\n",
       "</table>\n",
       "</div>"
      ],
      "text/plain": [
       "                 Column  RFE_Supported  RFE_Rank\n",
       "0         fixed acidity           True         1\n",
       "1      volatile acidity           True         1\n",
       "2           citric acid          False         4\n",
       "3        residual sugar           True         1\n",
       "4             chlorides          False         3\n",
       "5   free sulfur dioxide           True         1\n",
       "6  total sulfur dioxide           True         1\n",
       "7                    pH          False         2\n",
       "8             sulphates           True         1\n",
       "9               alcohol           True         1"
      ]
     },
     "execution_count": 59,
     "metadata": {},
     "output_type": "execute_result"
    }
   ],
   "source": [
    "# Displaying the column information with their rank of support for the model\n",
    "rfe_details = pd.DataFrame({'Column':X_train_white_wine.columns,'RFE_Supported':rfe.support_,'RFE_Rank':rfe.ranking_})\n",
    "rfe_details"
   ]
  },
  {
   "cell_type": "code",
   "execution_count": 60,
   "metadata": {},
   "outputs": [],
   "source": [
    "# Extracting the required columns for model building\n",
    "col_to_consider = list(X_train_white_wine.columns[rfe.support_])"
   ]
  },
  {
   "cell_type": "code",
   "execution_count": 61,
   "metadata": {},
   "outputs": [
    {
     "name": "stdout",
     "output_type": "stream",
     "text": [
      "                            OLS Regression Results                            \n",
      "==============================================================================\n",
      "Dep. Variable:                quality   R-squared:                       0.293\n",
      "Model:                            OLS   Adj. R-squared:                  0.292\n",
      "Method:                 Least Squares   F-statistic:                     194.6\n",
      "Date:                Wed, 20 Jan 2021   Prob (F-statistic):          6.46e-242\n",
      "Time:                        01:08:21   Log-Likelihood:                -3222.9\n",
      "No. Observations:                3288   AIC:                             6462.\n",
      "Df Residuals:                    3280   BIC:                             6511.\n",
      "Df Model:                           7                                         \n",
      "Covariance Type:            nonrobust                                         \n",
      "========================================================================================\n",
      "                           coef    std err          t      P>|t|      [0.025      0.975]\n",
      "----------------------------------------------------------------------------------------\n",
      "const                    5.8163      0.011    516.564      0.000       5.794       5.838\n",
      "fixed acidity           -0.0398      0.011     -3.474      0.001      -0.062      -0.017\n",
      "volatile acidity        -0.1960      0.012    -16.794      0.000      -0.219      -0.173\n",
      "residual sugar           0.1041      0.013      7.815      0.000       0.078       0.130\n",
      "free sulfur dioxide      0.0805      0.015      5.433      0.000       0.051       0.110\n",
      "total sulfur dioxide    -0.0336      0.016     -2.083      0.037      -0.065      -0.002\n",
      "sulphates                0.0575      0.011      5.034      0.000       0.035       0.080\n",
      "alcohol                  0.3963      0.014     29.260      0.000       0.370       0.423\n",
      "==============================================================================\n",
      "Omnibus:                        4.697   Durbin-Watson:                   2.011\n",
      "Prob(Omnibus):                  0.095   Jarque-Bera (JB):                4.748\n",
      "Skew:                          -0.087   Prob(JB):                       0.0931\n",
      "Kurtosis:                       2.936   Cond. No.                         2.73\n",
      "==============================================================================\n",
      "\n",
      "Warnings:\n",
      "[1] Standard Errors assume that the covariance matrix of the errors is correctly specified.\n"
     ]
    }
   ],
   "source": [
    "# Again building the model using statsmodels with the columns considered by RFE method.\n",
    "white_wine_model = sm.OLS(y_train_white_wine,sm.add_constant(X_train_white_wine[col_to_consider])).fit()\n",
    "print(white_wine_model.summary())"
   ]
  },
  {
   "cell_type": "code",
   "execution_count": 62,
   "metadata": {},
   "outputs": [],
   "source": [
    "# Let's define the function to calculate the VIFs (Variance Inflation Factor) to analyze the multicollinearity\n",
    "def cal_vif_white_wine(col_to_consider):\n",
    "    vif = pd.DataFrame()\n",
    "    X = X_train_white_wine[col_to_consider]\n",
    "    vif['Features'] = X.columns\n",
    "    vif['VIF'] = [variance_inflation_factor(X.values, i) for i in range(X.shape[1])]\n",
    "    vif['VIF'] = round(vif['VIF'], 2)\n",
    "    vif = vif.sort_values(by = \"VIF\", ascending = False)\n",
    "    return vif"
   ]
  },
  {
   "cell_type": "code",
   "execution_count": 63,
   "metadata": {},
   "outputs": [
    {
     "data": {
      "text/html": [
       "<div>\n",
       "<style scoped>\n",
       "    .dataframe tbody tr th:only-of-type {\n",
       "        vertical-align: middle;\n",
       "    }\n",
       "\n",
       "    .dataframe tbody tr th {\n",
       "        vertical-align: top;\n",
       "    }\n",
       "\n",
       "    .dataframe thead th {\n",
       "        text-align: right;\n",
       "    }\n",
       "</style>\n",
       "<table border=\"1\" class=\"dataframe\">\n",
       "  <thead>\n",
       "    <tr style=\"text-align: right;\">\n",
       "      <th></th>\n",
       "      <th>Features</th>\n",
       "      <th>VIF</th>\n",
       "    </tr>\n",
       "  </thead>\n",
       "  <tbody>\n",
       "    <tr>\n",
       "      <th>4</th>\n",
       "      <td>total sulfur dioxide</td>\n",
       "      <td>2.05</td>\n",
       "    </tr>\n",
       "    <tr>\n",
       "      <th>3</th>\n",
       "      <td>free sulfur dioxide</td>\n",
       "      <td>1.73</td>\n",
       "    </tr>\n",
       "    <tr>\n",
       "      <th>6</th>\n",
       "      <td>alcohol</td>\n",
       "      <td>1.45</td>\n",
       "    </tr>\n",
       "    <tr>\n",
       "      <th>2</th>\n",
       "      <td>residual sugar</td>\n",
       "      <td>1.40</td>\n",
       "    </tr>\n",
       "    <tr>\n",
       "      <th>1</th>\n",
       "      <td>volatile acidity</td>\n",
       "      <td>1.07</td>\n",
       "    </tr>\n",
       "    <tr>\n",
       "      <th>0</th>\n",
       "      <td>fixed acidity</td>\n",
       "      <td>1.03</td>\n",
       "    </tr>\n",
       "    <tr>\n",
       "      <th>5</th>\n",
       "      <td>sulphates</td>\n",
       "      <td>1.03</td>\n",
       "    </tr>\n",
       "  </tbody>\n",
       "</table>\n",
       "</div>"
      ],
      "text/plain": [
       "               Features   VIF\n",
       "4  total sulfur dioxide  2.05\n",
       "3   free sulfur dioxide  1.73\n",
       "6               alcohol  1.45\n",
       "2        residual sugar  1.40\n",
       "1      volatile acidity  1.07\n",
       "0         fixed acidity  1.03\n",
       "5             sulphates  1.03"
      ]
     },
     "execution_count": 63,
     "metadata": {},
     "output_type": "execute_result"
    }
   ],
   "source": [
    "cal_vif_white_wine(col_to_consider)"
   ]
  },
  {
   "cell_type": "markdown",
   "metadata": {},
   "source": [
    "- All the values have a good VIFs but we can observe some insignificant variables in the model with high p values."
   ]
  },
  {
   "cell_type": "markdown",
   "metadata": {},
   "source": [
    "### Building Model 1"
   ]
  },
  {
   "cell_type": "code",
   "execution_count": 64,
   "metadata": {},
   "outputs": [],
   "source": [
    "# Dropping the total sulfur dioxide from the model and rebuilding it.\n",
    "first_model_cols = col_to_consider[:]\n",
    "first_model_cols.remove('total sulfur dioxide')"
   ]
  },
  {
   "cell_type": "code",
   "execution_count": 65,
   "metadata": {},
   "outputs": [
    {
     "name": "stdout",
     "output_type": "stream",
     "text": [
      "                            OLS Regression Results                            \n",
      "==============================================================================\n",
      "Dep. Variable:                quality   R-squared:                       0.292\n",
      "Model:                            OLS   Adj. R-squared:                  0.291\n",
      "Method:                 Least Squares   F-statistic:                     226.1\n",
      "Date:                Wed, 20 Jan 2021   Prob (F-statistic):          3.57e-242\n",
      "Time:                        01:08:21   Log-Likelihood:                -3225.1\n",
      "No. Observations:                3288   AIC:                             6464.\n",
      "Df Residuals:                    3281   BIC:                             6507.\n",
      "Df Model:                           6                                         \n",
      "Covariance Type:            nonrobust                                         \n",
      "=======================================================================================\n",
      "                          coef    std err          t      P>|t|      [0.025      0.975]\n",
      "---------------------------------------------------------------------------------------\n",
      "const                   5.8163      0.011    516.301      0.000       5.794       5.838\n",
      "fixed acidity          -0.0421      0.011     -3.696      0.000      -0.064      -0.020\n",
      "volatile acidity       -0.2013      0.011    -17.658      0.000      -0.224      -0.179\n",
      "residual sugar          0.1005      0.013      7.605      0.000       0.075       0.126\n",
      "free sulfur dioxide     0.0630      0.012      5.156      0.000       0.039       0.087\n",
      "sulphates               0.0537      0.011      4.759      0.000       0.032       0.076\n",
      "alcohol                 0.4049      0.013     31.381      0.000       0.380       0.430\n",
      "==============================================================================\n",
      "Omnibus:                        5.039   Durbin-Watson:                   2.010\n",
      "Prob(Omnibus):                  0.080   Jarque-Bera (JB):                5.067\n",
      "Skew:                          -0.086   Prob(JB):                       0.0794\n",
      "Kurtosis:                       2.914   Cond. No.                         1.84\n",
      "==============================================================================\n",
      "\n",
      "Warnings:\n",
      "[1] Standard Errors assume that the covariance matrix of the errors is correctly specified.\n",
      "\n",
      "\n",
      "VIFs of columns: \n",
      "              Features   VIF\n",
      "2       residual sugar  1.38\n",
      "5              alcohol  1.31\n",
      "3  free sulfur dioxide  1.18\n",
      "0        fixed acidity  1.02\n",
      "1     volatile acidity  1.02\n",
      "4            sulphates  1.00\n"
     ]
    }
   ],
   "source": [
    "white_wine_model1 = sm.OLS(y_train_white_wine,sm.add_constant(X_train_white_wine[first_model_cols])).fit()\n",
    "print(white_wine_model1.summary())\n",
    "print(\"\\n\\nVIFs of columns: \")\n",
    "print(cal_vif_white_wine(first_model_cols))"
   ]
  },
  {
   "cell_type": "markdown",
   "metadata": {},
   "source": [
    "##### Inferences from the above model:\n",
    "- This seems to be a good model with no insignificant values and a very good VIF values.\n",
    "- We have got a low R-squared and adjusted R-squared values though which means these fields contribute less towards predicting the quality of wine. May be this can be avoided by using very large date set or by introducing some more information in the dataset which might be relevant in predicting the quality of red wine.\n",
    "- Let's start residual analysis and make predictions using the models."
   ]
  },
  {
   "cell_type": "code",
   "execution_count": 66,
   "metadata": {},
   "outputs": [],
   "source": [
    "# Dividing the test data into X and y for model building\n",
    "y_test_white_wine = test_white_wine.pop('quality')\n",
    "X_test_white_wine = test_white_wine"
   ]
  },
  {
   "cell_type": "code",
   "execution_count": 67,
   "metadata": {},
   "outputs": [
    {
     "name": "stdout",
     "output_type": "stream",
     "text": [
      "Mean Squared Error for Model 1:  48.22267884699318\n",
      "\n",
      "                     Train_Data  Test_Data\n",
      "R-squared             0.292486 -76.301456\n",
      "Adjusted R-squared    0.291193 -76.632040\n"
     ]
    }
   ],
   "source": [
    "# Making predictions using the model 1 to calculate the r-squared and adjusted r-squared for the test data \n",
    "\n",
    "X = X_test_white_wine[first_model_cols]\n",
    "predicted_white_count = white_wine_model1.predict(sm.add_constant(X))\n",
    "\n",
    "# Calculating the mean squared error and r-squared values\n",
    "pred_mse = mean_squared_error(y_test_white_wine, predicted_white_count)\n",
    "pred_r_squared = r2_score(y_test_white_wine, predicted_white_count)\n",
    "pred_adj_r_squared = (1 - (1-pred_r_squared)*(len(predicted_white_count)-1)/(len(predicted_white_count)-X.shape[1]-1))\n",
    "data = {'Train_Data':\n",
    "        {'R-squared' : white_wine_model1.rsquared,\n",
    "         'Adjusted R-squared' : white_wine_model1.rsquared_adj},\n",
    "        'Test_Data':\n",
    "        {'R-squared' : pred_r_squared,\n",
    "         'Adjusted R-squared' : pred_adj_r_squared}}\n",
    "model1_results = pd.DataFrame(data)\n",
    "print(\"Mean Squared Error for Model 1: \",pred_mse)\n",
    "print(\"\\n\",model1_results)"
   ]
  },
  {
   "cell_type": "markdown",
   "metadata": {},
   "source": [
    "##### Inferences from the predictions:\n",
    "- As we have got negative r-squared values, that means it's making wrong predictions over the test data sets.\n",
    "- This data makes no sense in predicting the quality of the red wine using this model."
   ]
  },
  {
   "cell_type": "markdown",
   "metadata": {},
   "source": [
    "## Residual Analysis"
   ]
  },
  {
   "cell_type": "code",
   "execution_count": 68,
   "metadata": {},
   "outputs": [],
   "source": [
    "predicted_train_white_quality = white_wine_model1.predict(sm.add_constant(X_train_white_wine[first_model_cols]))"
   ]
  },
  {
   "cell_type": "code",
   "execution_count": 69,
   "metadata": {},
   "outputs": [
    {
     "data": {
      "text/plain": [
       "Text(0.5, 0, 'Errors')"
      ]
     },
     "execution_count": 69,
     "metadata": {},
     "output_type": "execute_result"
    },
    {
     "data": {
      "image/png": "[encoded data removed]",
      "text/plain": [
       "<Figure size 432x288 with 1 Axes>"
      ]
     },
     "metadata": {
      "needs_background": "light"
     },
     "output_type": "display_data"
    }
   ],
   "source": [
    "# Plot the histogram of the error terms\n",
    "fig = plt.figure()\n",
    "sns.distplot((y_train_white_wine - predicted_train_white_quality), bins = 20)\n",
    "fig.suptitle('Error Terms', fontsize = 20)                  # Plot heading \n",
    "plt.xlabel('Errors', fontsize = 18)                         # X-label"
   ]
  },
  {
   "cell_type": "code",
   "execution_count": 70,
   "metadata": {},
   "outputs": [
    {
     "data": {
      "image/png": "[encoded data removed]",
      "text/plain": [
       "<Figure size 432x288 with 1 Axes>"
      ]
     },
     "metadata": {
      "needs_background": "light"
     },
     "output_type": "display_data"
    }
   ],
   "source": [
    "# Plotting the qqplot to check the error terms standard normal distribution\n",
    "sm.qqplot((y_train_white_wine - predicted_train_white_quality),fit=True, line='45')\n",
    "plt.title('White Wine Quality: Q-Q plot for Error Terms')\n",
    "plt.show()"
   ]
  },
  {
   "cell_type": "markdown",
   "metadata": {},
   "source": [
    "#### Inferences from the above Distplot:\n",
    "- We have plotted the histogram of error terms i.e. difference between the actual and predicted values for the trained data.\n",
    "- From the Q-Q plot, the quantiles of error terms are matched with the line at 45 degree. That means we are comparing the distribution of error terms with standard normal distribution. And from the plot we can say that \n",
    "- With respect to assumption for linear regression, the error terms should be normally distributed, by observing the above distribution plot, we can say that `the error terms are normally distributed` and the assumption is not violated."
   ]
  },
  {
   "cell_type": "code",
   "execution_count": 71,
   "metadata": {},
   "outputs": [
    {
     "data": {
      "text/plain": [
       "Text(0, 0.5, 'Error Terms')"
      ]
     },
     "execution_count": 71,
     "metadata": {},
     "output_type": "execute_result"
    },
    {
     "data": {
      "image/png": "[encoded data removed]",
      "text/plain": [
       "<Figure size 432x288 with 1 Axes>"
      ]
     },
     "metadata": {
      "needs_background": "light"
     },
     "output_type": "display_data"
    }
   ],
   "source": [
    "# Let's plot the scatter plot between the residuals and the predicted values.\n",
    "sns.scatterplot(x=predicted_train_white_quality, y=y_train_white_wine-predicted_train_white_quality)\n",
    "plt.suptitle('Predicted Quality Vs Error Terms', fontsize=15) \n",
    "plt.xlabel('Predicted Quality', fontsize=18)\n",
    "plt.ylabel('Error Terms', fontsize=16)"
   ]
  },
  {
   "cell_type": "markdown",
   "metadata": {},
   "source": [
    "#### Inferences from the above scatterplot:\n",
    "- We can clearly observe relationship between the predicted values and error terms based on a specific pattern. Those aren't centered around zero, and this is not uniform throughout the data.\n",
    "- So we can say that our model is `not a very good model` as there is some specific relation observed between the `predicted values and error terms` from the scatterplot. Our assumption for `independence of error terms is violated`."
   ]
  },
  {
   "cell_type": "markdown",
   "metadata": {},
   "source": [
    "#### Analysis of Actual Vs Predicted Quality"
   ]
  },
  {
   "cell_type": "code",
   "execution_count": 72,
   "metadata": {},
   "outputs": [
    {
     "data": {
      "text/plain": [
       "Text(0, 0.5, 'Count')"
      ]
     },
     "execution_count": 72,
     "metadata": {},
     "output_type": "execute_result"
    },
    {
     "data": {
      "image/png": "[encoded data removed]",
      "text/plain": [
       "<Figure size 432x288 with 1 Axes>"
      ]
     },
     "metadata": {
      "needs_background": "light"
     },
     "output_type": "display_data"
    }
   ],
   "source": [
    "#Actual vs Predicted\n",
    "c = [i for i in range(1,y_test_white_wine.shape[0]+1,1)]\n",
    "fig = plt.figure()\n",
    "plt.plot(c,y_test_white_wine, color=\"blue\", linewidth=2.5, linestyle=\"-\")\n",
    "plt.plot(c,predicted_white_count, color=\"red\",  linewidth=2.5, linestyle=\"-\")\n",
    "fig.suptitle('Actual Vs Predicted', fontsize=20)              # Plot heading \n",
    "plt.xlabel('Index', fontsize=18)                               # X-label\n",
    "plt.ylabel('Count', fontsize=16)                               # Y-label"
   ]
  },
  {
   "cell_type": "markdown",
   "metadata": {},
   "source": [
    "#### Inferences from the above scatter plot for the actual vs predicted count on test data for 'average' column:\n",
    "- We have plotted the actual values for quality column vs the predicted values for quality column using Model2.\n",
    "- We can see the predicted values from the actual values differ a lot.\n",
    "- Thus we can conclude that our model does not predict well for the test data."
   ]
  },
  {
   "cell_type": "markdown",
   "metadata": {},
   "source": [
    "### Summary\n",
    "1. lower level of volatile acidity, chlorides and pH results in better tasting Wine\n",
    "2. significant interactions between: alcohol & sulphates - positive correlation with wine rating\n",
    "3. total sulfur dioxide & sulphates - negative correlation with wine rating\n",
    "4. same level of sulphates should go with a higher level of alcohol and a lower level of total sulfur dioxide\n",
    "5. The big collinearities mostly involve insignificant attributes (Fixed acidity and density)\n",
    "6. Adjusted R-squared is only 30.9% (avg percentage), implying a limited level of fit of the model"
   ]
  },
  {
   "cell_type": "markdown",
   "metadata": {},
   "source": [
    "#### We can think of building the model with using logistic regression with good quality and bad quality as result with qualtity >6 as good and <6 as bad."
   ]
  },
  {
   "cell_type": "code",
   "execution_count": null,
   "metadata": {},
   "outputs": [],
   "source": []
  },
  {
   "cell_type": "markdown",
   "metadata": {},
   "source": [
    "# Building Logistic Regression Model"
   ]
  },
  {
   "cell_type": "markdown",
   "metadata": {},
   "source": [
    "- As we have got negative values for R-Squared and Adjusted R-Squared, this means the linear regression model is not very efficient in predicting the quality of the wine.\n",
    "- Hence, we can think of building logistic regression (or ideally any other method) model to predict the values effectively."
   ]
  },
  {
   "cell_type": "code",
   "execution_count": 73,
   "metadata": {},
   "outputs": [
    {
     "data": {
      "text/plain": [
       "5    479\n",
       "6    445\n",
       "7    141\n",
       "4     34\n",
       "Name: quality, dtype: int64"
      ]
     },
     "execution_count": 73,
     "metadata": {},
     "output_type": "execute_result"
    }
   ],
   "source": [
    "y_train_red_wine.value_counts()"
   ]
  },
  {
   "cell_type": "markdown",
   "metadata": {},
   "source": [
    "- After analyzing the quality values for the wines, we can consider a threshold range for wine between 4,5,6 and 7 to be 5.\n",
    "- Any wine with quality below or 5, considered as bad quality wine and any wine above 5 considered as good quality.\n",
    "- Let's start building the logistic regression model with red and white wine dataset."
   ]
  },
  {
   "cell_type": "code",
   "execution_count": 74,
   "metadata": {},
   "outputs": [],
   "source": [
    "# Let's convert the quality of the test and train data to have only good and bad quality.\n",
    "y_train_red_wine = y_train_red_wine.apply(lambda x: 1 if x>5 else 0)\n",
    "y_train_white_wine = y_train_white_wine.apply(lambda x: 1 if x>5 else 0)\n",
    "y_test_red_wine = y_test_red_wine.apply(lambda x: 1 if x>5 else 0)\n",
    "y_test_white_wine = y_test_white_wine.apply(lambda x: 1 if x>5 else 0)"
   ]
  },
  {
   "cell_type": "markdown",
   "metadata": {},
   "source": [
    "## Logistic Regression Model for Red Wine Data"
   ]
  },
  {
   "cell_type": "code",
   "execution_count": 75,
   "metadata": {},
   "outputs": [
    {
     "name": "stdout",
     "output_type": "stream",
     "text": [
      "                 Generalized Linear Model Regression Results                  \n",
      "==============================================================================\n",
      "Dep. Variable:                quality   No. Observations:                 1099\n",
      "Model:                            GLM   Df Residuals:                     1089\n",
      "Model Family:                Binomial   Df Model:                            9\n",
      "Link Function:                  logit   Scale:                          1.0000\n",
      "Method:                          IRLS   Log-Likelihood:                -587.11\n",
      "Date:                Wed, 20 Jan 2021   Deviance:                       1174.2\n",
      "Time:                        01:08:23   Pearson chi2:                 1.23e+03\n",
      "No. Iterations:                     5                                         \n",
      "Covariance Type:            nonrobust                                         \n",
      "========================================================================================\n",
      "                           coef    std err          z      P>|z|      [0.025      0.975]\n",
      "----------------------------------------------------------------------------------------\n",
      "const                    0.2376      0.074      3.230      0.001       0.093       0.382\n",
      "volatile acidity        -0.5776      0.098     -5.866      0.000      -0.771      -0.385\n",
      "citric acid             -0.1461      0.118     -1.242      0.214      -0.377       0.084\n",
      "residual sugar           0.1495      0.083      1.806      0.071      -0.013       0.312\n",
      "chlorides               -0.1421      0.084     -1.688      0.091      -0.307       0.023\n",
      "total sulfur dioxide    -0.4580      0.082     -5.592      0.000      -0.619      -0.297\n",
      "density                 -0.0554      0.113     -0.490      0.624      -0.277       0.166\n",
      "pH                      -0.0747      0.087     -0.856      0.392      -0.246       0.096\n",
      "sulphates                0.3630      0.087      4.167      0.000       0.192       0.534\n",
      "alcohol                  0.9081      0.115      7.926      0.000       0.684       1.133\n",
      "========================================================================================\n"
     ]
    }
   ],
   "source": [
    "logisticRegression = sm.GLM(y_train_red_wine,sm.add_constant(X_train_red_wine), family = sm.families.Binomial())\n",
    "res = logisticRegression.fit()\n",
    "print(res.summary())"
   ]
  },
  {
   "cell_type": "markdown",
   "metadata": {},
   "source": [
    "- There are some insignificant values in the model after overlook at p values.\n",
    "- Hence, we can consider building model using RFE and then predict the results."
   ]
  },
  {
   "cell_type": "code",
   "execution_count": 76,
   "metadata": {},
   "outputs": [],
   "source": [
    "# Running RFE with the output number of the variable equal to 5\n",
    "logReg = LogisticRegression()\n",
    "logReg.fit(X_train_red_wine, y_train_red_wine)\n",
    "\n",
    "rfe = RFE(logReg, 5) # running RFE\n",
    "rfe = rfe.fit(X_train_red_wine, y_train_red_wine)"
   ]
  },
  {
   "cell_type": "code",
   "execution_count": 77,
   "metadata": {},
   "outputs": [
    {
     "data": {
      "text/html": [
       "<div>\n",
       "<style scoped>\n",
       "    .dataframe tbody tr th:only-of-type {\n",
       "        vertical-align: middle;\n",
       "    }\n",
       "\n",
       "    .dataframe tbody tr th {\n",
       "        vertical-align: top;\n",
       "    }\n",
       "\n",
       "    .dataframe thead th {\n",
       "        text-align: right;\n",
       "    }\n",
       "</style>\n",
       "<table border=\"1\" class=\"dataframe\">\n",
       "  <thead>\n",
       "    <tr style=\"text-align: right;\">\n",
       "      <th></th>\n",
       "      <th>Column</th>\n",
       "      <th>RFE_Supported</th>\n",
       "      <th>RFE_Rank</th>\n",
       "    </tr>\n",
       "  </thead>\n",
       "  <tbody>\n",
       "    <tr>\n",
       "      <th>0</th>\n",
       "      <td>volatile acidity</td>\n",
       "      <td>True</td>\n",
       "      <td>1</td>\n",
       "    </tr>\n",
       "    <tr>\n",
       "      <th>1</th>\n",
       "      <td>citric acid</td>\n",
       "      <td>False</td>\n",
       "      <td>2</td>\n",
       "    </tr>\n",
       "    <tr>\n",
       "      <th>2</th>\n",
       "      <td>residual sugar</td>\n",
       "      <td>False</td>\n",
       "      <td>3</td>\n",
       "    </tr>\n",
       "    <tr>\n",
       "      <th>3</th>\n",
       "      <td>chlorides</td>\n",
       "      <td>True</td>\n",
       "      <td>1</td>\n",
       "    </tr>\n",
       "    <tr>\n",
       "      <th>4</th>\n",
       "      <td>total sulfur dioxide</td>\n",
       "      <td>True</td>\n",
       "      <td>1</td>\n",
       "    </tr>\n",
       "    <tr>\n",
       "      <th>5</th>\n",
       "      <td>density</td>\n",
       "      <td>False</td>\n",
       "      <td>5</td>\n",
       "    </tr>\n",
       "    <tr>\n",
       "      <th>6</th>\n",
       "      <td>pH</td>\n",
       "      <td>False</td>\n",
       "      <td>4</td>\n",
       "    </tr>\n",
       "    <tr>\n",
       "      <th>7</th>\n",
       "      <td>sulphates</td>\n",
       "      <td>True</td>\n",
       "      <td>1</td>\n",
       "    </tr>\n",
       "    <tr>\n",
       "      <th>8</th>\n",
       "      <td>alcohol</td>\n",
       "      <td>True</td>\n",
       "      <td>1</td>\n",
       "    </tr>\n",
       "  </tbody>\n",
       "</table>\n",
       "</div>"
      ],
      "text/plain": [
       "                 Column  RFE_Supported  RFE_Rank\n",
       "0      volatile acidity           True         1\n",
       "1           citric acid          False         2\n",
       "2        residual sugar          False         3\n",
       "3             chlorides           True         1\n",
       "4  total sulfur dioxide           True         1\n",
       "5               density          False         5\n",
       "6                    pH          False         4\n",
       "7             sulphates           True         1\n",
       "8               alcohol           True         1"
      ]
     },
     "execution_count": 77,
     "metadata": {},
     "output_type": "execute_result"
    }
   ],
   "source": [
    "# Displaying the column information with their rank of support for the model\n",
    "rfe_details = pd.DataFrame({'Column':X_train_red_wine.columns,'RFE_Supported':rfe.support_,'RFE_Rank':rfe.ranking_})\n",
    "rfe_details"
   ]
  },
  {
   "cell_type": "code",
   "execution_count": 78,
   "metadata": {},
   "outputs": [],
   "source": [
    "# Extracting the required columns for model building\n",
    "col_to_consider = list(X_train_red_wine.columns[rfe.support_])"
   ]
  },
  {
   "cell_type": "code",
   "execution_count": 79,
   "metadata": {},
   "outputs": [
    {
     "name": "stdout",
     "output_type": "stream",
     "text": [
      "                 Generalized Linear Model Regression Results                  \n",
      "==============================================================================\n",
      "Dep. Variable:                quality   No. Observations:                 1099\n",
      "Model:                            GLM   Df Residuals:                     1093\n",
      "Model Family:                Binomial   Df Model:                            5\n",
      "Link Function:                  logit   Scale:                          1.0000\n",
      "Method:                          IRLS   Log-Likelihood:                -589.93\n",
      "Date:                Wed, 20 Jan 2021   Deviance:                       1179.9\n",
      "Time:                        01:08:24   Pearson chi2:                 1.17e+03\n",
      "No. Iterations:                     5                                         \n",
      "Covariance Type:            nonrobust                                         \n",
      "========================================================================================\n",
      "                           coef    std err          z      P>|z|      [0.025      0.975]\n",
      "----------------------------------------------------------------------------------------\n",
      "const                    0.2403      0.073      3.285      0.001       0.097       0.384\n",
      "volatile acidity        -0.5165      0.078     -6.634      0.000      -0.669      -0.364\n",
      "chlorides               -0.1408      0.080     -1.752      0.080      -0.298       0.017\n",
      "total sulfur dioxide    -0.4199      0.075     -5.617      0.000      -0.566      -0.273\n",
      "sulphates                0.3331      0.083      3.992      0.000       0.170       0.497\n",
      "alcohol                  0.9196      0.091     10.123      0.000       0.742       1.098\n",
      "========================================================================================\n"
     ]
    }
   ],
   "source": [
    "### Again building the model using the selected columns\n",
    "logisticRegression = sm.GLM(y_train_red_wine,sm.add_constant(X_train_red_wine[col_to_consider]), family = sm.families.Binomial())\n",
    "res = logisticRegression.fit()\n",
    "print(res.summary())"
   ]
  },
  {
   "cell_type": "code",
   "execution_count": 80,
   "metadata": {},
   "outputs": [
    {
     "name": "stdout",
     "output_type": "stream",
     "text": [
      "                 Generalized Linear Model Regression Results                  \n",
      "==============================================================================\n",
      "Dep. Variable:                quality   No. Observations:                 1099\n",
      "Model:                            GLM   Df Residuals:                     1094\n",
      "Model Family:                Binomial   Df Model:                            4\n",
      "Link Function:                  logit   Scale:                          1.0000\n",
      "Method:                          IRLS   Log-Likelihood:                -591.50\n",
      "Date:                Wed, 20 Jan 2021   Deviance:                       1183.0\n",
      "Time:                        01:08:24   Pearson chi2:                 1.19e+03\n",
      "No. Iterations:                     5                                         \n",
      "Covariance Type:            nonrobust                                         \n",
      "========================================================================================\n",
      "                           coef    std err          z      P>|z|      [0.025      0.975]\n",
      "----------------------------------------------------------------------------------------\n",
      "const                    0.2423      0.073      3.314      0.001       0.099       0.386\n",
      "volatile acidity        -0.5347      0.077     -6.935      0.000      -0.686      -0.384\n",
      "total sulfur dioxide    -0.4165      0.074     -5.594      0.000      -0.562      -0.271\n",
      "sulphates                0.2625      0.072      3.649      0.000       0.122       0.403\n",
      "alcohol                  0.9535      0.089     10.695      0.000       0.779       1.128\n",
      "========================================================================================\n"
     ]
    }
   ],
   "source": [
    "# Dropping the column chlorides and then rebuilding the model\n",
    "col_to_consider.remove('chlorides')\n",
    "logisticRegression = sm.GLM(y_train_red_wine,sm.add_constant(X_train_red_wine[col_to_consider]), family = sm.families.Binomial())\n",
    "res = logisticRegression.fit()\n",
    "print(res.summary())"
   ]
  },
  {
   "cell_type": "markdown",
   "metadata": {},
   "source": [
    "##### Inferences:\n",
    "- This looks to be a significant and acceptable model by looking at p values"
   ]
  },
  {
   "cell_type": "markdown",
   "metadata": {},
   "source": [
    "### Making Predictions Using Logistic Regression for Red Wine Dataset"
   ]
  },
  {
   "cell_type": "code",
   "execution_count": 81,
   "metadata": {},
   "outputs": [
    {
     "data": {
      "text/plain": [
       "1560    0.156799\n",
       "570     0.865754\n",
       "124     0.191046\n",
       "1396    0.374328\n",
       "1347    0.284885\n",
       "dtype: float64"
      ]
     },
     "execution_count": 81,
     "metadata": {},
     "output_type": "execute_result"
    }
   ],
   "source": [
    "# Getting the predicted probability values on the train set\n",
    "predicted_train_red_quality = res.predict(sm.add_constant(X_train_red_wine[col_to_consider]))\n",
    "predicted_train_red_quality.head()"
   ]
  },
  {
   "cell_type": "code",
   "execution_count": 82,
   "metadata": {},
   "outputs": [
    {
     "data": {
      "text/plain": [
       "array([0.1567985 , 0.86575437, 0.19104614, ..., 0.19940557, 0.51424684,\n",
       "       0.11994211])"
      ]
     },
     "execution_count": 82,
     "metadata": {},
     "output_type": "execute_result"
    }
   ],
   "source": [
    "predicted_train_red_quality = predicted_train_red_quality.values.reshape(-1)\n",
    "predicted_train_red_quality"
   ]
  },
  {
   "cell_type": "markdown",
   "metadata": {},
   "source": [
    "##### Creating a dataframe with the actual quality flag and the predicted probabilities"
   ]
  },
  {
   "cell_type": "code",
   "execution_count": 83,
   "metadata": {},
   "outputs": [
    {
     "data": {
      "text/html": [
       "<div>\n",
       "<style scoped>\n",
       "    .dataframe tbody tr th:only-of-type {\n",
       "        vertical-align: middle;\n",
       "    }\n",
       "\n",
       "    .dataframe tbody tr th {\n",
       "        vertical-align: top;\n",
       "    }\n",
       "\n",
       "    .dataframe thead th {\n",
       "        text-align: right;\n",
       "    }\n",
       "</style>\n",
       "<table border=\"1\" class=\"dataframe\">\n",
       "  <thead>\n",
       "    <tr style=\"text-align: right;\">\n",
       "      <th></th>\n",
       "      <th>Quality</th>\n",
       "      <th>Quality_Prob</th>\n",
       "    </tr>\n",
       "  </thead>\n",
       "  <tbody>\n",
       "    <tr>\n",
       "      <th>0</th>\n",
       "      <td>0</td>\n",
       "      <td>0.156799</td>\n",
       "    </tr>\n",
       "    <tr>\n",
       "      <th>1</th>\n",
       "      <td>1</td>\n",
       "      <td>0.865754</td>\n",
       "    </tr>\n",
       "    <tr>\n",
       "      <th>2</th>\n",
       "      <td>0</td>\n",
       "      <td>0.191046</td>\n",
       "    </tr>\n",
       "    <tr>\n",
       "      <th>3</th>\n",
       "      <td>0</td>\n",
       "      <td>0.374328</td>\n",
       "    </tr>\n",
       "    <tr>\n",
       "      <th>4</th>\n",
       "      <td>0</td>\n",
       "      <td>0.284885</td>\n",
       "    </tr>\n",
       "  </tbody>\n",
       "</table>\n",
       "</div>"
      ],
      "text/plain": [
       "   Quality  Quality_Prob\n",
       "0        0      0.156799\n",
       "1        1      0.865754\n",
       "2        0      0.191046\n",
       "3        0      0.374328\n",
       "4        0      0.284885"
      ]
     },
     "execution_count": 83,
     "metadata": {},
     "output_type": "execute_result"
    }
   ],
   "source": [
    "y_train_pred_final = pd.DataFrame({'Quality':y_train_red_wine.values, 'Quality_Prob': predicted_train_red_quality})\n",
    "y_train_pred_final.head()"
   ]
  },
  {
   "cell_type": "markdown",
   "metadata": {},
   "source": [
    "##### Creating new column 'predicted' with 1 if Quality_Prob > 0.5 else 0"
   ]
  },
  {
   "cell_type": "code",
   "execution_count": 84,
   "metadata": {},
   "outputs": [
    {
     "data": {
      "text/html": [
       "<div>\n",
       "<style scoped>\n",
       "    .dataframe tbody tr th:only-of-type {\n",
       "        vertical-align: middle;\n",
       "    }\n",
       "\n",
       "    .dataframe tbody tr th {\n",
       "        vertical-align: top;\n",
       "    }\n",
       "\n",
       "    .dataframe thead th {\n",
       "        text-align: right;\n",
       "    }\n",
       "</style>\n",
       "<table border=\"1\" class=\"dataframe\">\n",
       "  <thead>\n",
       "    <tr style=\"text-align: right;\">\n",
       "      <th></th>\n",
       "      <th>Quality</th>\n",
       "      <th>Quality_Prob</th>\n",
       "      <th>predicted</th>\n",
       "    </tr>\n",
       "  </thead>\n",
       "  <tbody>\n",
       "    <tr>\n",
       "      <th>0</th>\n",
       "      <td>0</td>\n",
       "      <td>0.156799</td>\n",
       "      <td>0</td>\n",
       "    </tr>\n",
       "    <tr>\n",
       "      <th>1</th>\n",
       "      <td>1</td>\n",
       "      <td>0.865754</td>\n",
       "      <td>1</td>\n",
       "    </tr>\n",
       "    <tr>\n",
       "      <th>2</th>\n",
       "      <td>0</td>\n",
       "      <td>0.191046</td>\n",
       "      <td>0</td>\n",
       "    </tr>\n",
       "    <tr>\n",
       "      <th>3</th>\n",
       "      <td>0</td>\n",
       "      <td>0.374328</td>\n",
       "      <td>0</td>\n",
       "    </tr>\n",
       "    <tr>\n",
       "      <th>4</th>\n",
       "      <td>0</td>\n",
       "      <td>0.284885</td>\n",
       "      <td>0</td>\n",
       "    </tr>\n",
       "  </tbody>\n",
       "</table>\n",
       "</div>"
      ],
      "text/plain": [
       "   Quality  Quality_Prob  predicted\n",
       "0        0      0.156799          0\n",
       "1        1      0.865754          1\n",
       "2        0      0.191046          0\n",
       "3        0      0.374328          0\n",
       "4        0      0.284885          0"
      ]
     },
     "execution_count": 84,
     "metadata": {},
     "output_type": "execute_result"
    }
   ],
   "source": [
    "y_train_pred_final['predicted'] = y_train_pred_final.Quality_Prob.map(lambda x: 1 if x > 0.5 else 0)\n",
    "\n",
    "# Let's see the head\n",
    "y_train_pred_final.head()"
   ]
  },
  {
   "cell_type": "code",
   "execution_count": 85,
   "metadata": {},
   "outputs": [
    {
     "name": "stdout",
     "output_type": "stream",
     "text": [
      "[[382 131]\n",
      " [148 438]]\n"
     ]
    }
   ],
   "source": [
    "# Confusion matrix \n",
    "confusion = confusion_matrix(y_train_pred_final.Quality, y_train_pred_final.predicted )\n",
    "print(confusion)"
   ]
  },
  {
   "cell_type": "code",
   "execution_count": 86,
   "metadata": {},
   "outputs": [],
   "source": [
    "# Predicted     bad    good\n",
    "# Actual\n",
    "# bad           382    131\n",
    "# good          148    438  "
   ]
  },
  {
   "cell_type": "code",
   "execution_count": 87,
   "metadata": {},
   "outputs": [
    {
     "name": "stdout",
     "output_type": "stream",
     "text": [
      "0.7461328480436761\n"
     ]
    }
   ],
   "source": [
    "# Let's check the overall accuracy.\n",
    "print(accuracy_score(y_train_pred_final.Quality, y_train_pred_final.predicted))"
   ]
  },
  {
   "cell_type": "markdown",
   "metadata": {
    "collapsed": true
   },
   "source": [
    "### Step 9: Plotting the ROC Curve"
   ]
  },
  {
   "cell_type": "markdown",
   "metadata": {},
   "source": [
    "An ROC curve demonstrates several things:\n",
    "\n",
    "- It shows the tradeoff between sensitivity and specificity (any increase in sensitivity will be accompanied by a decrease in specificity).\n",
    "- The closer the curve follows the left-hand border and then the top border of the ROC space, the more accurate the test.\n",
    "- The closer the curve comes to the 45-degree diagonal of the ROC space, the less accurate the test."
   ]
  },
  {
   "cell_type": "code",
   "execution_count": 88,
   "metadata": {},
   "outputs": [],
   "source": [
    "def draw_roc( actual, probs ):\n",
    "    fpr, tpr, thresholds = roc_curve( actual, probs,\n",
    "                                              drop_intermediate = False )\n",
    "    auc_score = roc_auc_score( actual, probs )\n",
    "    plt.figure(figsize=(5, 5))\n",
    "    plt.plot( fpr, tpr, label='ROC curve (area = %0.2f)' % auc_score )\n",
    "    plt.plot([0, 1], [0, 1], 'k--')\n",
    "    plt.xlim([0.0, 1.0])\n",
    "    plt.ylim([0.0, 1.05])\n",
    "    plt.xlabel('False Positive Rate or [1 - True Negative Rate]')\n",
    "    plt.ylabel('True Positive Rate')\n",
    "    plt.title('Receiver operating characteristic example')\n",
    "    plt.legend(loc=\"lower right\")\n",
    "    plt.show()\n",
    "\n",
    "    return None"
   ]
  },
  {
   "cell_type": "code",
   "execution_count": 89,
   "metadata": {},
   "outputs": [],
   "source": [
    "fpr, tpr, thresholds = roc_curve(y_train_pred_final.Quality, y_train_pred_final.Quality_Prob, drop_intermediate = False)"
   ]
  },
  {
   "cell_type": "code",
   "execution_count": 90,
   "metadata": {},
   "outputs": [
    {
     "data": {
      "image/png": "[encoded data removed]",
      "text/plain": [
       "<Figure size 360x360 with 1 Axes>"
      ]
     },
     "metadata": {
      "needs_background": "light"
     },
     "output_type": "display_data"
    }
   ],
   "source": [
    "draw_roc(y_train_pred_final.Quality, y_train_pred_final.Quality_Prob)"
   ]
  },
  {
   "cell_type": "markdown",
   "metadata": {},
   "source": [
    "### Step 10: Finding Optimal Cutoff Point"
   ]
  },
  {
   "cell_type": "markdown",
   "metadata": {},
   "source": [
    "Optimal cutoff probability is that prob where we get balanced sensitivity and specificity"
   ]
  },
  {
   "cell_type": "code",
   "execution_count": 91,
   "metadata": {
    "scrolled": true
   },
   "outputs": [
    {
     "data": {
      "text/html": [
       "<div>\n",
       "<style scoped>\n",
       "    .dataframe tbody tr th:only-of-type {\n",
       "        vertical-align: middle;\n",
       "    }\n",
       "\n",
       "    .dataframe tbody tr th {\n",
       "        vertical-align: top;\n",
       "    }\n",
       "\n",
       "    .dataframe thead th {\n",
       "        text-align: right;\n",
       "    }\n",
       "</style>\n",
       "<table border=\"1\" class=\"dataframe\">\n",
       "  <thead>\n",
       "    <tr style=\"text-align: right;\">\n",
       "      <th></th>\n",
       "      <th>Quality</th>\n",
       "      <th>Quality_Prob</th>\n",
       "      <th>predicted</th>\n",
       "      <th>0.0</th>\n",
       "      <th>0.1</th>\n",
       "      <th>0.2</th>\n",
       "      <th>0.3</th>\n",
       "      <th>0.4</th>\n",
       "      <th>0.5</th>\n",
       "      <th>0.6</th>\n",
       "      <th>0.7</th>\n",
       "      <th>0.8</th>\n",
       "      <th>0.9</th>\n",
       "    </tr>\n",
       "  </thead>\n",
       "  <tbody>\n",
       "    <tr>\n",
       "      <th>0</th>\n",
       "      <td>0</td>\n",
       "      <td>0.156799</td>\n",
       "      <td>0</td>\n",
       "      <td>1</td>\n",
       "      <td>1</td>\n",
       "      <td>0</td>\n",
       "      <td>0</td>\n",
       "      <td>0</td>\n",
       "      <td>0</td>\n",
       "      <td>0</td>\n",
       "      <td>0</td>\n",
       "      <td>0</td>\n",
       "      <td>0</td>\n",
       "    </tr>\n",
       "    <tr>\n",
       "      <th>1</th>\n",
       "      <td>1</td>\n",
       "      <td>0.865754</td>\n",
       "      <td>1</td>\n",
       "      <td>1</td>\n",
       "      <td>1</td>\n",
       "      <td>1</td>\n",
       "      <td>1</td>\n",
       "      <td>1</td>\n",
       "      <td>1</td>\n",
       "      <td>1</td>\n",
       "      <td>1</td>\n",
       "      <td>1</td>\n",
       "      <td>0</td>\n",
       "    </tr>\n",
       "    <tr>\n",
       "      <th>2</th>\n",
       "      <td>0</td>\n",
       "      <td>0.191046</td>\n",
       "      <td>0</td>\n",
       "      <td>1</td>\n",
       "      <td>1</td>\n",
       "      <td>0</td>\n",
       "      <td>0</td>\n",
       "      <td>0</td>\n",
       "      <td>0</td>\n",
       "      <td>0</td>\n",
       "      <td>0</td>\n",
       "      <td>0</td>\n",
       "      <td>0</td>\n",
       "    </tr>\n",
       "    <tr>\n",
       "      <th>3</th>\n",
       "      <td>0</td>\n",
       "      <td>0.374328</td>\n",
       "      <td>0</td>\n",
       "      <td>1</td>\n",
       "      <td>1</td>\n",
       "      <td>1</td>\n",
       "      <td>1</td>\n",
       "      <td>0</td>\n",
       "      <td>0</td>\n",
       "      <td>0</td>\n",
       "      <td>0</td>\n",
       "      <td>0</td>\n",
       "      <td>0</td>\n",
       "    </tr>\n",
       "    <tr>\n",
       "      <th>4</th>\n",
       "      <td>0</td>\n",
       "      <td>0.284885</td>\n",
       "      <td>0</td>\n",
       "      <td>1</td>\n",
       "      <td>1</td>\n",
       "      <td>1</td>\n",
       "      <td>0</td>\n",
       "      <td>0</td>\n",
       "      <td>0</td>\n",
       "      <td>0</td>\n",
       "      <td>0</td>\n",
       "      <td>0</td>\n",
       "      <td>0</td>\n",
       "    </tr>\n",
       "  </tbody>\n",
       "</table>\n",
       "</div>"
      ],
      "text/plain": [
       "   Quality  Quality_Prob  predicted  0.0  0.1  0.2  0.3  0.4  0.5  0.6  0.7  \\\n",
       "0        0      0.156799          0    1    1    0    0    0    0    0    0   \n",
       "1        1      0.865754          1    1    1    1    1    1    1    1    1   \n",
       "2        0      0.191046          0    1    1    0    0    0    0    0    0   \n",
       "3        0      0.374328          0    1    1    1    1    0    0    0    0   \n",
       "4        0      0.284885          0    1    1    1    0    0    0    0    0   \n",
       "\n",
       "   0.8  0.9  \n",
       "0    0    0  \n",
       "1    1    0  \n",
       "2    0    0  \n",
       "3    0    0  \n",
       "4    0    0  "
      ]
     },
     "execution_count": 91,
     "metadata": {},
     "output_type": "execute_result"
    }
   ],
   "source": [
    "# Let's create columns with different probability cutoffs \n",
    "numbers = [float(x)/10 for x in range(10)]\n",
    "for i in numbers:\n",
    "    y_train_pred_final[i]= y_train_pred_final.Quality_Prob.map(lambda x: 1 if x > i else 0)\n",
    "y_train_pred_final.head()"
   ]
  },
  {
   "cell_type": "code",
   "execution_count": 92,
   "metadata": {},
   "outputs": [
    {
     "name": "stdout",
     "output_type": "stream",
     "text": [
      "     prob  accuracy     sensi     speci\n",
      "0.0   0.0  0.533212  1.000000  0.000000\n",
      "0.1   0.1  0.545951  0.996587  0.031189\n",
      "0.2   0.2  0.616924  0.970990  0.212476\n",
      "0.3   0.3  0.688808  0.919795  0.424951\n",
      "0.4   0.4  0.714286  0.825939  0.586745\n",
      "0.5   0.5  0.746133  0.747440  0.744639\n",
      "0.6   0.6  0.708826  0.617747  0.812865\n",
      "0.7   0.7  0.676979  0.486348  0.894737\n",
      "0.8   0.8  0.632393  0.360068  0.943470\n",
      "0.9   0.9  0.554140  0.180887  0.980507\n"
     ]
    }
   ],
   "source": [
    "# Now let's calculate accuracy sensitivity and specificity for various probability cutoffs.\n",
    "cutoff_df = pd.DataFrame(columns = ['prob','accuracy','sensi','speci'])\n",
    "\n",
    "# TP = confusion[1,1] # true positive \n",
    "# TN = confusion[0,0] # true negatives\n",
    "# FP = confusion[0,1] # false positives\n",
    "# FN = confusion[1,0] # false negatives\n",
    "\n",
    "num = [0.0,0.1,0.2,0.3,0.4,0.5,0.6,0.7,0.8,0.9]\n",
    "for i in num:\n",
    "    cm1 = confusion_matrix(y_train_pred_final.Quality, y_train_pred_final[i] )\n",
    "    total1=sum(sum(cm1))\n",
    "    accuracy = (cm1[0,0]+cm1[1,1])/total1\n",
    "    \n",
    "    speci = cm1[0,0]/(cm1[0,0]+cm1[0,1])\n",
    "    sensi = cm1[1,1]/(cm1[1,0]+cm1[1,1])\n",
    "    cutoff_df.loc[i] =[i, accuracy, sensi, speci]\n",
    "print(cutoff_df)"
   ]
  },
  {
   "cell_type": "code",
   "execution_count": 93,
   "metadata": {},
   "outputs": [
    {
     "data": {
      "image/png": "[encoded data removed]",
      "text/plain": [
       "<Figure size 432x288 with 1 Axes>"
      ]
     },
     "metadata": {
      "needs_background": "light"
     },
     "output_type": "display_data"
    }
   ],
   "source": [
    "# Let's plot accuracy sensitivity and specificity for various probabilities.\n",
    "cutoff_df.plot.line(x='prob', y=['accuracy','sensi','speci'])\n",
    "plt.show()"
   ]
  },
  {
   "cell_type": "markdown",
   "metadata": {},
   "source": [
    "#### From the curve above, 0.5 is the optimum point to take it as a cutoff probability.\n",
    "- As we have already taken the cutoff as 0.5, there will be no change in the predictions., Let's analyze other factors also."
   ]
  },
  {
   "cell_type": "code",
   "execution_count": 94,
   "metadata": {},
   "outputs": [
    {
     "name": "stdout",
     "output_type": "stream",
     "text": [
      "[[382 131]\n",
      " [148 438]]\n"
     ]
    }
   ],
   "source": [
    "# Confusion matrix \n",
    "confusion = confusion_matrix(y_train_pred_final.Quality, y_train_pred_final.predicted )\n",
    "print(confusion)"
   ]
  },
  {
   "cell_type": "code",
   "execution_count": 95,
   "metadata": {},
   "outputs": [],
   "source": [
    "# Predicted     bad    good\n",
    "# Actual\n",
    "# bad           382    131\n",
    "# good          148    438  "
   ]
  },
  {
   "cell_type": "code",
   "execution_count": 96,
   "metadata": {},
   "outputs": [
    {
     "name": "stdout",
     "output_type": "stream",
     "text": [
      "0.7461328480436761\n"
     ]
    }
   ],
   "source": [
    "# Let's check the overall accuracy.\n",
    "print(accuracy_score(y_train_pred_final.Quality, y_train_pred_final.predicted))"
   ]
  },
  {
   "cell_type": "markdown",
   "metadata": {},
   "source": [
    "## Metrics beyond simply accuracy"
   ]
  },
  {
   "cell_type": "code",
   "execution_count": 97,
   "metadata": {},
   "outputs": [],
   "source": [
    "TP = confusion[1,1] # true positive \n",
    "TN = confusion[0,0] # true negatives\n",
    "FP = confusion[0,1] # false positives\n",
    "FN = confusion[1,0] # false negatives"
   ]
  },
  {
   "cell_type": "code",
   "execution_count": 98,
   "metadata": {},
   "outputs": [
    {
     "data": {
      "text/plain": [
       "0.7474402730375427"
      ]
     },
     "execution_count": 98,
     "metadata": {},
     "output_type": "execute_result"
    }
   ],
   "source": [
    "# Let's see the sensitivity of our logistic regression model\n",
    "TP / float(TP+FN)"
   ]
  },
  {
   "cell_type": "code",
   "execution_count": 99,
   "metadata": {},
   "outputs": [
    {
     "data": {
      "text/plain": [
       "0.7446393762183235"
      ]
     },
     "execution_count": 99,
     "metadata": {},
     "output_type": "execute_result"
    }
   ],
   "source": [
    "# Let us calculate specificity\n",
    "TN / float(TN+FP)"
   ]
  },
  {
   "cell_type": "code",
   "execution_count": 100,
   "metadata": {},
   "outputs": [
    {
     "name": "stdout",
     "output_type": "stream",
     "text": [
      "0.2553606237816764\n"
     ]
    }
   ],
   "source": [
    "# Calculate false postive rate - predicting good quality when wine has bad quality\n",
    "print(FP/ float(TN+FP))"
   ]
  },
  {
   "cell_type": "code",
   "execution_count": 101,
   "metadata": {},
   "outputs": [
    {
     "name": "stdout",
     "output_type": "stream",
     "text": [
      "0.7697715289982425\n"
     ]
    }
   ],
   "source": [
    "# positive predictive value \n",
    "print (TP / float(TP+FP))"
   ]
  },
  {
   "cell_type": "code",
   "execution_count": 102,
   "metadata": {},
   "outputs": [
    {
     "name": "stdout",
     "output_type": "stream",
     "text": [
      "0.720754716981132\n"
     ]
    }
   ],
   "source": [
    "# Negative predictive value\n",
    "print (TN / float(TN+ FN))"
   ]
  },
  {
   "cell_type": "code",
   "execution_count": null,
   "metadata": {},
   "outputs": [],
   "source": []
  },
  {
   "cell_type": "markdown",
   "metadata": {},
   "source": [
    "### Making Predictions Using Logistic Regression for White Wine Dataset"
   ]
  },
  {
   "cell_type": "code",
   "execution_count": 103,
   "metadata": {},
   "outputs": [
    {
     "data": {
      "text/plain": [
       "3310    0.875365\n",
       "1667    0.699841\n",
       "1278    0.617921\n",
       "4319    0.828586\n",
       "787     0.204813\n",
       "dtype: float64"
      ]
     },
     "execution_count": 103,
     "metadata": {},
     "output_type": "execute_result"
    }
   ],
   "source": [
    "# Getting the predicted probability values on the train set\n",
    "predicted_train_white_quality = res.predict(sm.add_constant(X_train_white_wine[col_to_consider]))\n",
    "predicted_train_white_quality.head()"
   ]
  },
  {
   "cell_type": "code",
   "execution_count": 104,
   "metadata": {},
   "outputs": [
    {
     "data": {
      "text/plain": [
       "array([0.87536534, 0.69984113, 0.61792141, ..., 0.78343719, 0.09585503,\n",
       "       0.81863405])"
      ]
     },
     "execution_count": 104,
     "metadata": {},
     "output_type": "execute_result"
    }
   ],
   "source": [
    "predicted_train_white_quality = predicted_train_white_quality.values.reshape(-1)\n",
    "predicted_train_white_quality"
   ]
  },
  {
   "cell_type": "markdown",
   "metadata": {},
   "source": [
    "##### Creating a dataframe with the actual quality flag and the predicted probabilities"
   ]
  },
  {
   "cell_type": "code",
   "execution_count": 105,
   "metadata": {},
   "outputs": [
    {
     "data": {
      "text/html": [
       "<div>\n",
       "<style scoped>\n",
       "    .dataframe tbody tr th:only-of-type {\n",
       "        vertical-align: middle;\n",
       "    }\n",
       "\n",
       "    .dataframe tbody tr th {\n",
       "        vertical-align: top;\n",
       "    }\n",
       "\n",
       "    .dataframe thead th {\n",
       "        text-align: right;\n",
       "    }\n",
       "</style>\n",
       "<table border=\"1\" class=\"dataframe\">\n",
       "  <thead>\n",
       "    <tr style=\"text-align: right;\">\n",
       "      <th></th>\n",
       "      <th>Quality</th>\n",
       "      <th>Quality_Prob</th>\n",
       "    </tr>\n",
       "  </thead>\n",
       "  <tbody>\n",
       "    <tr>\n",
       "      <th>0</th>\n",
       "      <td>1</td>\n",
       "      <td>0.875365</td>\n",
       "    </tr>\n",
       "    <tr>\n",
       "      <th>1</th>\n",
       "      <td>1</td>\n",
       "      <td>0.699841</td>\n",
       "    </tr>\n",
       "    <tr>\n",
       "      <th>2</th>\n",
       "      <td>1</td>\n",
       "      <td>0.617921</td>\n",
       "    </tr>\n",
       "    <tr>\n",
       "      <th>3</th>\n",
       "      <td>1</td>\n",
       "      <td>0.828586</td>\n",
       "    </tr>\n",
       "    <tr>\n",
       "      <th>4</th>\n",
       "      <td>1</td>\n",
       "      <td>0.204813</td>\n",
       "    </tr>\n",
       "  </tbody>\n",
       "</table>\n",
       "</div>"
      ],
      "text/plain": [
       "   Quality  Quality_Prob\n",
       "0        1      0.875365\n",
       "1        1      0.699841\n",
       "2        1      0.617921\n",
       "3        1      0.828586\n",
       "4        1      0.204813"
      ]
     },
     "execution_count": 105,
     "metadata": {},
     "output_type": "execute_result"
    }
   ],
   "source": [
    "y_train_pred_final = pd.DataFrame({'Quality':y_train_white_wine.values, 'Quality_Prob': predicted_train_white_quality})\n",
    "y_train_pred_final.head()"
   ]
  },
  {
   "cell_type": "markdown",
   "metadata": {},
   "source": [
    "##### Creating new column 'predicted' with 1 if Quality_Prob > 0.5 else 0"
   ]
  },
  {
   "cell_type": "code",
   "execution_count": 106,
   "metadata": {},
   "outputs": [
    {
     "data": {
      "text/html": [
       "<div>\n",
       "<style scoped>\n",
       "    .dataframe tbody tr th:only-of-type {\n",
       "        vertical-align: middle;\n",
       "    }\n",
       "\n",
       "    .dataframe tbody tr th {\n",
       "        vertical-align: top;\n",
       "    }\n",
       "\n",
       "    .dataframe thead th {\n",
       "        text-align: right;\n",
       "    }\n",
       "</style>\n",
       "<table border=\"1\" class=\"dataframe\">\n",
       "  <thead>\n",
       "    <tr style=\"text-align: right;\">\n",
       "      <th></th>\n",
       "      <th>Quality</th>\n",
       "      <th>Quality_Prob</th>\n",
       "      <th>predicted</th>\n",
       "    </tr>\n",
       "  </thead>\n",
       "  <tbody>\n",
       "    <tr>\n",
       "      <th>0</th>\n",
       "      <td>1</td>\n",
       "      <td>0.875365</td>\n",
       "      <td>1</td>\n",
       "    </tr>\n",
       "    <tr>\n",
       "      <th>1</th>\n",
       "      <td>1</td>\n",
       "      <td>0.699841</td>\n",
       "      <td>1</td>\n",
       "    </tr>\n",
       "    <tr>\n",
       "      <th>2</th>\n",
       "      <td>1</td>\n",
       "      <td>0.617921</td>\n",
       "      <td>1</td>\n",
       "    </tr>\n",
       "    <tr>\n",
       "      <th>3</th>\n",
       "      <td>1</td>\n",
       "      <td>0.828586</td>\n",
       "      <td>1</td>\n",
       "    </tr>\n",
       "    <tr>\n",
       "      <th>4</th>\n",
       "      <td>1</td>\n",
       "      <td>0.204813</td>\n",
       "      <td>0</td>\n",
       "    </tr>\n",
       "  </tbody>\n",
       "</table>\n",
       "</div>"
      ],
      "text/plain": [
       "   Quality  Quality_Prob  predicted\n",
       "0        1      0.875365          1\n",
       "1        1      0.699841          1\n",
       "2        1      0.617921          1\n",
       "3        1      0.828586          1\n",
       "4        1      0.204813          0"
      ]
     },
     "execution_count": 106,
     "metadata": {},
     "output_type": "execute_result"
    }
   ],
   "source": [
    "y_train_pred_final['predicted'] = y_train_pred_final.Quality_Prob.map(lambda x: 1 if x > 0.5 else 0)\n",
    "\n",
    "# Let's see the head\n",
    "y_train_pred_final.head()"
   ]
  },
  {
   "cell_type": "code",
   "execution_count": 107,
   "metadata": {},
   "outputs": [
    {
     "name": "stdout",
     "output_type": "stream",
     "text": [
      "[[ 784  333]\n",
      " [ 632 1539]]\n"
     ]
    }
   ],
   "source": [
    "# Confusion matrix \n",
    "confusion = confusion_matrix(y_train_pred_final.Quality, y_train_pred_final.predicted )\n",
    "print(confusion)"
   ]
  },
  {
   "cell_type": "code",
   "execution_count": 108,
   "metadata": {},
   "outputs": [],
   "source": [
    "# Predicted     bad    good\n",
    "# Actual\n",
    "# bad           784    333\n",
    "# good          632    1539  "
   ]
  },
  {
   "cell_type": "code",
   "execution_count": 109,
   "metadata": {},
   "outputs": [
    {
     "name": "stdout",
     "output_type": "stream",
     "text": [
      "0.7065085158150851\n"
     ]
    }
   ],
   "source": [
    "# Let's check the overall accuracy.\n",
    "print(accuracy_score(y_train_pred_final.Quality, y_train_pred_final.predicted))"
   ]
  },
  {
   "cell_type": "markdown",
   "metadata": {
    "collapsed": true
   },
   "source": [
    "### Step 9: Plotting the ROC Curve"
   ]
  },
  {
   "cell_type": "markdown",
   "metadata": {},
   "source": [
    "An ROC curve demonstrates several things:\n",
    "\n",
    "- It shows the tradeoff between sensitivity and specificity (any increase in sensitivity will be accompanied by a decrease in specificity).\n",
    "- The closer the curve follows the left-hand border and then the top border of the ROC space, the more accurate the test.\n",
    "- The closer the curve comes to the 45-degree diagonal of the ROC space, the less accurate the test."
   ]
  },
  {
   "cell_type": "code",
   "execution_count": 110,
   "metadata": {},
   "outputs": [],
   "source": [
    "def draw_roc( actual, probs ):\n",
    "    fpr, tpr, thresholds = roc_curve( actual, probs,\n",
    "                                              drop_intermediate = False )\n",
    "    auc_score = roc_auc_score( actual, probs )\n",
    "    plt.figure(figsize=(5, 5))\n",
    "    plt.plot( fpr, tpr, label='ROC curve (area = %0.2f)' % auc_score )\n",
    "    plt.plot([0, 1], [0, 1], 'k--')\n",
    "    plt.xlim([0.0, 1.0])\n",
    "    plt.ylim([0.0, 1.05])\n",
    "    plt.xlabel('False Positive Rate or [1 - True Negative Rate]')\n",
    "    plt.ylabel('True Positive Rate')\n",
    "    plt.title('Receiver operating characteristic example')\n",
    "    plt.legend(loc=\"lower right\")\n",
    "    plt.show()\n",
    "\n",
    "    return None"
   ]
  },
  {
   "cell_type": "code",
   "execution_count": 111,
   "metadata": {},
   "outputs": [],
   "source": [
    "fpr, tpr, thresholds = roc_curve(y_train_pred_final.Quality, y_train_pred_final.Quality_Prob, drop_intermediate = False)"
   ]
  },
  {
   "cell_type": "code",
   "execution_count": 112,
   "metadata": {},
   "outputs": [
    {
     "data": {
      "image/png": "[encoded data removed]",
      "text/plain": [
       "<Figure size 360x360 with 1 Axes>"
      ]
     },
     "metadata": {
      "needs_background": "light"
     },
     "output_type": "display_data"
    }
   ],
   "source": [
    "draw_roc(y_train_pred_final.Quality, y_train_pred_final.Quality_Prob)"
   ]
  },
  {
   "cell_type": "markdown",
   "metadata": {},
   "source": [
    "### Step 10: Finding Optimal Cutoff Point"
   ]
  },
  {
   "cell_type": "markdown",
   "metadata": {},
   "source": [
    "Optimal cutoff probability is that prob where we get balanced sensitivity and specificity"
   ]
  },
  {
   "cell_type": "code",
   "execution_count": 113,
   "metadata": {
    "scrolled": true
   },
   "outputs": [
    {
     "data": {
      "text/html": [
       "<div>\n",
       "<style scoped>\n",
       "    .dataframe tbody tr th:only-of-type {\n",
       "        vertical-align: middle;\n",
       "    }\n",
       "\n",
       "    .dataframe tbody tr th {\n",
       "        vertical-align: top;\n",
       "    }\n",
       "\n",
       "    .dataframe thead th {\n",
       "        text-align: right;\n",
       "    }\n",
       "</style>\n",
       "<table border=\"1\" class=\"dataframe\">\n",
       "  <thead>\n",
       "    <tr style=\"text-align: right;\">\n",
       "      <th></th>\n",
       "      <th>Quality</th>\n",
       "      <th>Quality_Prob</th>\n",
       "      <th>predicted</th>\n",
       "      <th>0.0</th>\n",
       "      <th>0.1</th>\n",
       "      <th>0.2</th>\n",
       "      <th>0.3</th>\n",
       "      <th>0.4</th>\n",
       "      <th>0.5</th>\n",
       "      <th>0.6</th>\n",
       "      <th>0.7</th>\n",
       "      <th>0.8</th>\n",
       "      <th>0.9</th>\n",
       "    </tr>\n",
       "  </thead>\n",
       "  <tbody>\n",
       "    <tr>\n",
       "      <th>0</th>\n",
       "      <td>1</td>\n",
       "      <td>0.875365</td>\n",
       "      <td>1</td>\n",
       "      <td>1</td>\n",
       "      <td>1</td>\n",
       "      <td>1</td>\n",
       "      <td>1</td>\n",
       "      <td>1</td>\n",
       "      <td>1</td>\n",
       "      <td>1</td>\n",
       "      <td>1</td>\n",
       "      <td>1</td>\n",
       "      <td>0</td>\n",
       "    </tr>\n",
       "    <tr>\n",
       "      <th>1</th>\n",
       "      <td>1</td>\n",
       "      <td>0.699841</td>\n",
       "      <td>1</td>\n",
       "      <td>1</td>\n",
       "      <td>1</td>\n",
       "      <td>1</td>\n",
       "      <td>1</td>\n",
       "      <td>1</td>\n",
       "      <td>1</td>\n",
       "      <td>1</td>\n",
       "      <td>0</td>\n",
       "      <td>0</td>\n",
       "      <td>0</td>\n",
       "    </tr>\n",
       "    <tr>\n",
       "      <th>2</th>\n",
       "      <td>1</td>\n",
       "      <td>0.617921</td>\n",
       "      <td>1</td>\n",
       "      <td>1</td>\n",
       "      <td>1</td>\n",
       "      <td>1</td>\n",
       "      <td>1</td>\n",
       "      <td>1</td>\n",
       "      <td>1</td>\n",
       "      <td>1</td>\n",
       "      <td>0</td>\n",
       "      <td>0</td>\n",
       "      <td>0</td>\n",
       "    </tr>\n",
       "    <tr>\n",
       "      <th>3</th>\n",
       "      <td>1</td>\n",
       "      <td>0.828586</td>\n",
       "      <td>1</td>\n",
       "      <td>1</td>\n",
       "      <td>1</td>\n",
       "      <td>1</td>\n",
       "      <td>1</td>\n",
       "      <td>1</td>\n",
       "      <td>1</td>\n",
       "      <td>1</td>\n",
       "      <td>1</td>\n",
       "      <td>1</td>\n",
       "      <td>0</td>\n",
       "    </tr>\n",
       "    <tr>\n",
       "      <th>4</th>\n",
       "      <td>1</td>\n",
       "      <td>0.204813</td>\n",
       "      <td>0</td>\n",
       "      <td>1</td>\n",
       "      <td>1</td>\n",
       "      <td>1</td>\n",
       "      <td>0</td>\n",
       "      <td>0</td>\n",
       "      <td>0</td>\n",
       "      <td>0</td>\n",
       "      <td>0</td>\n",
       "      <td>0</td>\n",
       "      <td>0</td>\n",
       "    </tr>\n",
       "  </tbody>\n",
       "</table>\n",
       "</div>"
      ],
      "text/plain": [
       "   Quality  Quality_Prob  predicted  0.0  0.1  0.2  0.3  0.4  0.5  0.6  0.7  \\\n",
       "0        1      0.875365          1    1    1    1    1    1    1    1    1   \n",
       "1        1      0.699841          1    1    1    1    1    1    1    1    0   \n",
       "2        1      0.617921          1    1    1    1    1    1    1    1    0   \n",
       "3        1      0.828586          1    1    1    1    1    1    1    1    1   \n",
       "4        1      0.204813          0    1    1    1    0    0    0    0    0   \n",
       "\n",
       "   0.8  0.9  \n",
       "0    1    0  \n",
       "1    0    0  \n",
       "2    0    0  \n",
       "3    1    0  \n",
       "4    0    0  "
      ]
     },
     "execution_count": 113,
     "metadata": {},
     "output_type": "execute_result"
    }
   ],
   "source": [
    "# Let's create columns with different probability cutoffs \n",
    "numbers = [float(x)/10 for x in range(10)]\n",
    "for i in numbers:\n",
    "    y_train_pred_final[i]= y_train_pred_final.Quality_Prob.map(lambda x: 1 if x > i else 0)\n",
    "y_train_pred_final.head()"
   ]
  },
  {
   "cell_type": "code",
   "execution_count": 114,
   "metadata": {},
   "outputs": [
    {
     "name": "stdout",
     "output_type": "stream",
     "text": [
      "     prob  accuracy     sensi     speci\n",
      "0.0   0.0  0.660280  1.000000  0.000000\n",
      "0.1   0.1  0.675791  0.993551  0.058192\n",
      "0.2   0.2  0.705596  0.953938  0.222919\n",
      "0.3   0.3  0.731752  0.870106  0.462847\n",
      "0.4   0.4  0.724453  0.782589  0.611459\n",
      "0.5   0.5  0.706509  0.708890  0.701880\n",
      "0.6   0.6  0.656326  0.586366  0.792301\n",
      "0.7   0.7  0.605535  0.469369  0.870188\n",
      "0.8   0.8  0.520681  0.304468  0.940913\n",
      "0.9   0.9  0.402676  0.101796  0.987466\n"
     ]
    }
   ],
   "source": [
    "# Now let's calculate accuracy sensitivity and specificity for various probability cutoffs.\n",
    "cutoff_df = pd.DataFrame(columns = ['prob','accuracy','sensi','speci'])\n",
    "\n",
    "# TP = confusion[1,1] # true positive \n",
    "# TN = confusion[0,0] # true negatives\n",
    "# FP = confusion[0,1] # false positives\n",
    "# FN = confusion[1,0] # false negatives\n",
    "\n",
    "num = [0.0,0.1,0.2,0.3,0.4,0.5,0.6,0.7,0.8,0.9]\n",
    "for i in num:\n",
    "    cm1 = confusion_matrix(y_train_pred_final.Quality, y_train_pred_final[i] )\n",
    "    total1=sum(sum(cm1))\n",
    "    accuracy = (cm1[0,0]+cm1[1,1])/total1\n",
    "    \n",
    "    speci = cm1[0,0]/(cm1[0,0]+cm1[0,1])\n",
    "    sensi = cm1[1,1]/(cm1[1,0]+cm1[1,1])\n",
    "    cutoff_df.loc[i] =[i, accuracy, sensi, speci]\n",
    "print(cutoff_df)"
   ]
  },
  {
   "cell_type": "code",
   "execution_count": 115,
   "metadata": {},
   "outputs": [
    {
     "data": {
      "image/png": "[encoded data removed]",
      "text/plain": [
       "<Figure size 432x288 with 1 Axes>"
      ]
     },
     "metadata": {
      "needs_background": "light"
     },
     "output_type": "display_data"
    }
   ],
   "source": [
    "# Let's plot accuracy sensitivity and specificity for various probabilities.\n",
    "cutoff_df.plot.line(x='prob', y=['accuracy','sensi','speci'])\n",
    "plt.show()"
   ]
  },
  {
   "cell_type": "markdown",
   "metadata": {},
   "source": [
    "#### From the curve above, 0.5 is the optimum point to take it as a cutoff probability.\n",
    "- As we have already taken the cutoff as 0.5, there will be no change in the predictions., Let's analyze other factors also."
   ]
  },
  {
   "cell_type": "code",
   "execution_count": 116,
   "metadata": {},
   "outputs": [
    {
     "name": "stdout",
     "output_type": "stream",
     "text": [
      "[[ 784  333]\n",
      " [ 632 1539]]\n"
     ]
    }
   ],
   "source": [
    "# Confusion matrix \n",
    "confusion = confusion_matrix(y_train_pred_final.Quality, y_train_pred_final.predicted )\n",
    "print(confusion)"
   ]
  },
  {
   "cell_type": "code",
   "execution_count": 117,
   "metadata": {},
   "outputs": [],
   "source": [
    "# Predicted     bad    good\n",
    "# Actual\n",
    "# bad           784    333\n",
    "# good          632    1539 "
   ]
  },
  {
   "cell_type": "code",
   "execution_count": 118,
   "metadata": {},
   "outputs": [
    {
     "name": "stdout",
     "output_type": "stream",
     "text": [
      "0.7065085158150851\n"
     ]
    }
   ],
   "source": [
    "# Let's check the overall accuracy.\n",
    "print(accuracy_score(y_train_pred_final.Quality, y_train_pred_final.predicted))"
   ]
  },
  {
   "cell_type": "markdown",
   "metadata": {},
   "source": [
    "## Metrics beyond simply accuracy"
   ]
  },
  {
   "cell_type": "code",
   "execution_count": 119,
   "metadata": {},
   "outputs": [],
   "source": [
    "TP = confusion[1,1] # true positive \n",
    "TN = confusion[0,0] # true negatives\n",
    "FP = confusion[0,1] # false positives\n",
    "FN = confusion[1,0] # false negatives"
   ]
  },
  {
   "cell_type": "code",
   "execution_count": 120,
   "metadata": {},
   "outputs": [
    {
     "data": {
      "text/plain": [
       "0.7088899124827268"
      ]
     },
     "execution_count": 120,
     "metadata": {},
     "output_type": "execute_result"
    }
   ],
   "source": [
    "# Let's see the sensitivity of our logistic regression model\n",
    "TP / float(TP+FN)"
   ]
  },
  {
   "cell_type": "code",
   "execution_count": 121,
   "metadata": {},
   "outputs": [
    {
     "data": {
      "text/plain": [
       "0.7018800358102059"
      ]
     },
     "execution_count": 121,
     "metadata": {},
     "output_type": "execute_result"
    }
   ],
   "source": [
    "# Let us calculate specificity\n",
    "TN / float(TN+FP)"
   ]
  },
  {
   "cell_type": "code",
   "execution_count": 122,
   "metadata": {},
   "outputs": [
    {
     "name": "stdout",
     "output_type": "stream",
     "text": [
      "0.2981199641897941\n"
     ]
    }
   ],
   "source": [
    "# Calculate false postive rate - predicting good quality when wine has bad quality\n",
    "print(FP/ float(TN+FP))"
   ]
  },
  {
   "cell_type": "code",
   "execution_count": 123,
   "metadata": {},
   "outputs": [
    {
     "name": "stdout",
     "output_type": "stream",
     "text": [
      "0.8221153846153846\n"
     ]
    }
   ],
   "source": [
    "# positive predictive value \n",
    "print (TP / float(TP+FP))"
   ]
  },
  {
   "cell_type": "code",
   "execution_count": 124,
   "metadata": {},
   "outputs": [
    {
     "name": "stdout",
     "output_type": "stream",
     "text": [
      "0.5536723163841808\n"
     ]
    }
   ],
   "source": [
    "# Negative predictive value\n",
    "print (TN / float(TN+ FN))"
   ]
  }
 ],
 "metadata": {
  "kernelspec": {
   "display_name": "Python 3",
   "language": "python",
   "name": "python3"
  },
  "language_info": {
   "codemirror_mode": {
    "name": "ipython",
    "version": 3
   },
   "file_extension": ".py",
   "mimetype": "text/x-python",
   "name": "python",
   "nbconvert_exporter": "python",
   "pygments_lexer": "ipython3",
   "version": "3.8.3"
  }
 },
 "nbformat": 4,
 "nbformat_minor": 4
}
